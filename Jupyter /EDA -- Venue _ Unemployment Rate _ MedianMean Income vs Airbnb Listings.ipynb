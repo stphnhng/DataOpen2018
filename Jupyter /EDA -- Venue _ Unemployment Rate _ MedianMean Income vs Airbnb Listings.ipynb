{
 "cells": [
  {
   "cell_type": "code",
   "execution_count": 294,
   "metadata": {
    "collapsed": true
   },
   "outputs": [],
   "source": [
    "import pandas as pd\n",
    "import matplotlib.pyplot as plt\n",
    "from scipy.stats.stats import pearsonr\n",
    "from scipy.stats import stats\n",
    "import numpy\n",
    "import seaborn as sns\n",
    "import statsmodels.api as sm"
   ]
  },
  {
   "cell_type": "code",
   "execution_count": 3,
   "metadata": {
    "collapsed": true
   },
   "outputs": [],
   "source": [
    "%matplotlib inline"
   ]
  },
  {
   "cell_type": "code",
   "execution_count": 4,
   "metadata": {
    "collapsed": true
   },
   "outputs": [],
   "source": [
    "# Set ipython's max row display\n",
    "pd.set_option('display.max_row', 1000)\n",
    "\n",
    "# Set iPython's max column width to 50\n",
    "pd.set_option('display.max_columns', 50)"
   ]
  },
  {
   "cell_type": "markdown",
   "metadata": {},
   "source": [
    "# Importing Data"
   ]
  },
  {
   "cell_type": "code",
   "execution_count": 57,
   "metadata": {
    "collapsed": false
   },
   "outputs": [
    {
     "name": "stderr",
     "output_type": "stream",
     "text": [
      "/Users/stephen/anaconda/lib/python3.6/site-packages/IPython/core/interactiveshell.py:2717: DtypeWarning: Columns (9) have mixed types. Specify dtype option on import or set low_memory=False.\n",
      "  interactivity=interactivity, compiler=compiler, result=result)\n"
     ]
    }
   ],
   "source": [
    "listings = pd.read_csv(\"listings.csv\")\n",
    "listings = listings[['city', 'metropolitan', 'price', 'state', 'availability_30', 'instant_bookable', 'zipcode']]\n",
    "listings = listings.loc[listings['city'].isin(['san francisco', 'oakland', 'san diego', 'santa cruz', \n",
    "                                            'seattle', 'portland', 'los angeles' ])]"
   ]
  },
  {
   "cell_type": "code",
   "execution_count": 5,
   "metadata": {
    "collapsed": false
   },
   "outputs": [
    {
     "data": {
      "text/plain": [
       "array(['los angeles', 'oakland', 'san francisco', 'san diego',\n",
       "       'santa cruz', 'seattle', 'portland'], dtype=object)"
      ]
     },
     "execution_count": 5,
     "metadata": {},
     "output_type": "execute_result"
    }
   ],
   "source": [
    "venues = pd.read_csv(\"venueszip_clean.csv\")\n",
    "venues = venues.drop(['Unnamed: 0', 'Unnamed: 0.1'],axis=1)\n",
    "venues.city.unique()"
   ]
  },
  {
   "cell_type": "code",
   "execution_count": 125,
   "metadata": {
    "collapsed": true
   },
   "outputs": [],
   "source": [
    "econ_data = pd.read_csv(\"econ_state.csv\")\n",
    "econ_data = econ_data.loc[econ_data['state'].isin(['CA', 'WA', 'OR'])]"
   ]
  },
  {
   "cell_type": "code",
   "execution_count": 176,
   "metadata": {
    "collapsed": false
   },
   "outputs": [],
   "source": [
    "demographic = pd.read_csv(\"demographics.csv\")\n"
   ]
  },
  {
   "cell_type": "code",
   "execution_count": 177,
   "metadata": {
    "collapsed": false
   },
   "outputs": [
    {
     "data": {
      "text/plain": [
       "array(['Abbeville', 'Abbotsford', 'Aberdeen', ..., 'Zimmerman',\n",
       "       'Zumbrota', 'Zuni Pueblo'], dtype=object)"
      ]
     },
     "execution_count": 177,
     "metadata": {},
     "output_type": "execute_result"
    }
   ],
   "source": [
    "demographic.city.unique()"
   ]
  },
  {
   "cell_type": "code",
   "execution_count": 181,
   "metadata": {
    "collapsed": false
   },
   "outputs": [],
   "source": [
    "demographic = demographic.loc[demographic['state'].isin(['WA', 'CA', 'OR']) ]\n"
   ]
  },
  {
   "cell_type": "code",
   "execution_count": 183,
   "metadata": {
    "collapsed": false
   },
   "outputs": [],
   "source": [
    "demographic = demographic.loc[demographic['city'].isin(['Seattle', 'San Francisco--Oakland', 'Portland', \n",
    "                                                         'Los Angeles--Long Beach--Anaheim', 'Santa Cruz', 'San Diego'])]\n",
    "\n"
   ]
  },
  {
   "cell_type": "markdown",
   "metadata": {},
   "source": [
    "# Unemployment Rate vs Number of Listings of Airbnb"
   ]
  },
  {
   "cell_type": "code",
   "execution_count": 143,
   "metadata": {
    "collapsed": false
   },
   "outputs": [
    {
     "name": "stdout",
     "output_type": "stream",
     "text": [
      "4     5.2\n",
      "37    4.5\n",
      "47    5.1\n",
      "Name: 2016/12_ur, dtype: float64\n"
     ]
    }
   ],
   "source": [
    "recent_ur = econ_data['2016/12_ur']\n",
    "print(recent_ur)"
   ]
  },
  {
   "cell_type": "code",
   "execution_count": 144,
   "metadata": {
    "collapsed": false
   },
   "outputs": [
    {
     "name": "stdout",
     "output_type": "stream",
     "text": [
      "state\n",
      "CA    36468\n",
      "OR     3541\n",
      "WA     3814\n",
      "Name: count, dtype: int64\n"
     ]
    }
   ],
   "source": [
    "listings_state_count = listings.groupby('state').price.agg(['count'])['count']\n",
    "print(listings_state_count)"
   ]
  },
  {
   "cell_type": "code",
   "execution_count": 145,
   "metadata": {
    "collapsed": false
   },
   "outputs": [
    {
     "name": "stdout",
     "output_type": "stream",
     "text": [
      "unemployment rate vs number of listings\n",
      "[[1.         0.61569165]\n",
      " [0.61569165 1.        ]]\n"
     ]
    }
   ],
   "source": [
    "print(\"unemployment rate vs number of listings\")\n",
    "print(numpy.corrcoef(list(recent_ur), list(listings_state_count)))"
   ]
  },
  {
   "cell_type": "markdown",
   "metadata": {},
   "source": [
    "# EDA venue count and restarurant count vs number of Airbnbs"
   ]
  },
  {
   "cell_type": "code",
   "execution_count": 13,
   "metadata": {
    "collapsed": false
   },
   "outputs": [
    {
     "name": "stdout",
     "output_type": "stream",
     "text": [
      "city\n",
      "los angeles      23598\n",
      "oakland           5809\n",
      "portland          7504\n",
      "san diego         5583\n",
      "san francisco    26666\n",
      "santa cruz         534\n",
      "seattle          12684\n",
      "Name: count, dtype: int64\n"
     ]
    }
   ],
   "source": [
    "venues_count = venues.groupby('city').types.agg(['count'])['count']\n",
    "print(venues_count)"
   ]
  },
  {
   "cell_type": "code",
   "execution_count": 24,
   "metadata": {
    "collapsed": false
   },
   "outputs": [
    {
     "data": {
      "text/plain": [
       "True"
      ]
     },
     "execution_count": 24,
     "metadata": {},
     "output_type": "execute_result"
    }
   ],
   "source": [
    "'point_of_interest' in venues['types'][0]"
   ]
  },
  {
   "cell_type": "code",
   "execution_count": 42,
   "metadata": {
    "collapsed": false
   },
   "outputs": [],
   "source": [
    "venues_poi = venues[venues['types'].str.contains(\"point_of_interest\")]\n",
    "venues_res = venues[venues['types'].str.contains(\"restaurant\")]"
   ]
  },
  {
   "cell_type": "code",
   "execution_count": 118,
   "metadata": {
    "collapsed": true
   },
   "outputs": [],
   "source": [
    "venues_res.to_csv(\"restaurant_data.csv\")"
   ]
  },
  {
   "cell_type": "code",
   "execution_count": 43,
   "metadata": {
    "collapsed": false
   },
   "outputs": [
    {
     "name": "stdout",
     "output_type": "stream",
     "text": [
      "(82378, 16)\n",
      "(17887, 16)\n",
      "(82378, 16)\n"
     ]
    }
   ],
   "source": [
    "print(venues_poi.shape)\n",
    "print(venues_res.shape)\n",
    "print(venues.shape)"
   ]
  },
  {
   "cell_type": "code",
   "execution_count": 46,
   "metadata": {
    "collapsed": false
   },
   "outputs": [
    {
     "name": "stdout",
     "output_type": "stream",
     "text": [
      "city\n",
      "los angeles      6231\n",
      "oakland          1055\n",
      "portland         1759\n",
      "san diego        1149\n",
      "san francisco    4763\n",
      "santa cruz         91\n",
      "seattle          2839\n",
      "Name: count, dtype: int64\n"
     ]
    }
   ],
   "source": [
    "venues_res_count = venues_res.groupby('city').types.agg(['count'])['count']\n",
    "print(venues_res_count)"
   ]
  },
  {
   "cell_type": "code",
   "execution_count": 50,
   "metadata": {
    "collapsed": true
   },
   "outputs": [],
   "source": [
    "def price_to_float (price):\n",
    "    price = str(price)\n",
    "    return float(price.strip(\"$\").replace(\",\", \"\"))\n",
    "\n",
    "listings['price'] = listings['price'].apply(price_to_float)"
   ]
  },
  {
   "cell_type": "code",
   "execution_count": 261,
   "metadata": {
    "collapsed": false
   },
   "outputs": [
    {
     "name": "stdout",
     "output_type": "stream",
     "text": [
      "city\n",
      "los angeles      19515\n",
      "oakland           1611\n",
      "portland          3541\n",
      "san diego         6207\n",
      "san francisco     8684\n",
      "santa cruz         451\n",
      "seattle           3814\n",
      "Name: count, dtype: int64\n"
     ]
    }
   ],
   "source": [
    "listings_count = listings.groupby('city').price.agg(['count'])['count']\n",
    "print(listings_count)"
   ]
  },
  {
   "cell_type": "code",
   "execution_count": 85,
   "metadata": {
    "collapsed": false
   },
   "outputs": [
    {
     "name": "stdout",
     "output_type": "stream",
     "text": [
      "number of restaurants vs listings\n",
      "[[1.         0.89652001]\n",
      " [0.89652001 1.        ]]\n",
      "number of venues vs listings\n",
      "[[1.         0.77511564]\n",
      " [0.77511564 1.        ]]\n"
     ]
    }
   ],
   "source": [
    "print(\"number of restaurants vs listings\")\n",
    "print(numpy.corrcoef(venues_res_count, listings_count))\n",
    "# Pearson Correlation between number of venues and number of listings. \n",
    "print(\"number of venues vs listings\")\n",
    "print(numpy.corrcoef(venues_count, listings_count))"
   ]
  },
  {
   "cell_type": "code",
   "execution_count": 302,
   "metadata": {
    "collapsed": false
   },
   "outputs": [
    {
     "data": {
      "image/png": "[encoded data removed]",
      "text/plain": [
       "<matplotlib.figure.Figure at 0x1111b57b8>"
      ]
     },
     "metadata": {},
     "output_type": "display_data"
    }
   ],
   "source": [
    "index = ['LA', 'Oakland', 'Portland', 'SD',\n",
    "         'SF', 'SC', 'SEA']\n",
    "df = pd.DataFrame({'venues': list(venues_count),\n",
    "                    'listing': list(listings_count)}, index=index)\n",
    "ax = df.plot.bar(rot=0)"
   ]
  },
  {
   "cell_type": "code",
   "execution_count": 303,
   "metadata": {
    "collapsed": false
   },
   "outputs": [
    {
     "data": {
      "text/plain": [
       "<seaborn.axisgrid.FacetGrid at 0x111048e80>"
      ]
     },
     "execution_count": 303,
     "metadata": {},
     "output_type": "execute_result"
    },
    {
     "data": {
      "image/png": "[encoded data removed]",
      "text/plain": [
       "<matplotlib.figure.Figure at 0x111048710>"
      ]
     },
     "metadata": {},
     "output_type": "display_data"
    }
   ],
   "source": [
    "sns.lmplot(x='listing',y='venues',data=df,fit_reg=True) "
   ]
  },
  {
   "cell_type": "code",
   "execution_count": 299,
   "metadata": {
    "collapsed": false
   },
   "outputs": [
    {
     "data": {
      "image/png": "[encoded data removed]",
      "text/plain": [
       "<matplotlib.figure.Figure at 0x1111b5828>"
      ]
     },
     "metadata": {},
     "output_type": "display_data"
    }
   ],
   "source": [
    "index = ['LA', 'Oakland', 'Portland', 'SD',\n",
    "         'SF', 'SC', 'SEA']\n",
    "df = pd.DataFrame({'venues': list(venues_res_count),\n",
    "                    'listing': list(listings_count)}, index=index)\n",
    "ax = df.plot.bar(rot=0)"
   ]
  },
  {
   "cell_type": "code",
   "execution_count": 301,
   "metadata": {
    "collapsed": false
   },
   "outputs": [
    {
     "data": {
      "text/plain": [
       "<seaborn.axisgrid.FacetGrid at 0x11138d1d0>"
      ]
     },
     "execution_count": 301,
     "metadata": {},
     "output_type": "execute_result"
    },
    {
     "data": {
      "image/png": "[encoded data removed]",
      "text/plain": [
       "<matplotlib.figure.Figure at 0x111387630>"
      ]
     },
     "metadata": {},
     "output_type": "display_data"
    }
   ],
   "source": [
    "sns.lmplot(x='listing',y='venues',data=df,fit_reg=True) "
   ]
  },
  {
   "cell_type": "code",
   "execution_count": 298,
   "metadata": {
    "collapsed": false
   },
   "outputs": [
    {
     "name": "stdout",
     "output_type": "stream",
     "text": [
      "                            OLS Regression Results                            \n",
      "==============================================================================\n",
      "Dep. Variable:                 venues   R-squared:                       0.905\n",
      "Model:                            OLS   Adj. R-squared:                  0.890\n",
      "Method:                 Least Squares   F-statistic:                     57.45\n",
      "Date:                Sat, 27 Oct 2018   Prob (F-statistic):           0.000274\n",
      "Time:                        14:40:11   Log-Likelihood:                -58.338\n",
      "No. Observations:                   7   AIC:                             118.7\n",
      "Df Residuals:                       6   BIC:                             118.6\n",
      "Df Model:                           1                                         \n",
      "Covariance Type:            nonrobust                                         \n",
      "==============================================================================\n",
      "                 coef    std err          t      P>|t|      [95.0% Conf. Int.]\n",
      "------------------------------------------------------------------------------\n",
      "listing        0.3600      0.048      7.579      0.000         0.244     0.476\n",
      "==============================================================================\n",
      "Omnibus:                          nan   Durbin-Watson:                   2.361\n",
      "Prob(Omnibus):                    nan   Jarque-Bera (JB):                0.490\n",
      "Skew:                          -0.011   Prob(JB):                        0.783\n",
      "Kurtosis:                       1.705   Cond. No.                         1.00\n",
      "==============================================================================\n",
      "\n",
      "Warnings:\n",
      "[1] Standard Errors assume that the covariance matrix of the errors is correctly specified.\n"
     ]
    },
    {
     "name": "stderr",
     "output_type": "stream",
     "text": [
      "/Users/stephen/anaconda/lib/python3.6/site-packages/statsmodels/stats/stattools.py:72: UserWarning: omni_normtest is not valid with less than 8 observations; 7 samples were given.\n",
      "  \"samples were given.\" % int(n))\n"
     ]
    }
   ],
   "source": [
    "model = sm.OLS(df['venues'], df['listing']).fit()\n",
    "predictions = model.predict(df['listing']) \n",
    "\n",
    "print_model = model.summary()\n",
    "print(print_model)"
   ]
  },
  {
   "cell_type": "markdown",
   "metadata": {},
   "source": [
    "#### Conclusion\n",
    "\n",
    "89.7 pearson correlation between number of restaurants and number of airbnb listings\n",
    "\n",
    "77.5 pearson correlation between number of venues and number of airbnb listings\n"
   ]
  },
  {
   "cell_type": "markdown",
   "metadata": {},
   "source": [
    "# Unique Venue Types\n",
    "\n",
    "Testing correlation between different types and number of airbnb listings"
   ]
  },
  {
   "cell_type": "code",
   "execution_count": 74,
   "metadata": {
    "collapsed": false,
    "scrolled": true
   },
   "outputs": [
    {
     "data": {
      "text/plain": [
       "array([\"['restaurant', 'food', 'point_of_interest', 'establishment']\",\n",
       "       \"['cafe', 'food', 'store', 'point_of_interest', 'establishment']\",\n",
       "       \"['cafe', 'restaurant', 'food', 'point_of_interest', 'establishment']\",\n",
       "       \"['lodging', 'point_of_interest', 'establishment']\",\n",
       "       \"['museum', 'point_of_interest', 'establishment']\",\n",
       "       \"['park', 'point_of_interest', 'establishment']\",\n",
       "       \"['hair_care', 'beauty_salon', 'spa', 'point_of_interest', 'establishment']\",\n",
       "       \"['hair_care', 'beauty_salon', 'spa', 'health', 'point_of_interest', 'establishment']\",\n",
       "       \"['spa', 'point_of_interest', 'establishment']\",\n",
       "       \"['bus_station', 'transit_station', 'point_of_interest', 'establishment']\",\n",
       "       \"['car_rental', 'point_of_interest', 'establishment']\",\n",
       "       \"['transit_station', 'point_of_interest', 'establishment']\",\n",
       "       \"['bar', 'point_of_interest', 'establishment']\",\n",
       "       \"['aquarium', 'point_of_interest', 'establishment']\",\n",
       "       \"['rv_park', 'lodging', 'point_of_interest', 'establishment']\",\n",
       "       \"['shopping_mall', 'point_of_interest', 'establishment']\",\n",
       "       \"['travel_agency', 'point_of_interest', 'establishment']\",\n",
       "       \"['meal_takeaway', 'restaurant', 'food', 'point_of_interest', 'establishment']\",\n",
       "       \"['restaurant', 'bar', 'food', 'point_of_interest', 'establishment']\",\n",
       "       \"['cafe', 'food', 'point_of_interest', 'establishment']\",\n",
       "       \"['bakery', 'cafe', 'food', 'store', 'point_of_interest', 'establishment']\",\n",
       "       \"['spa', 'health', 'point_of_interest', 'establishment']\",\n",
       "       \"['doctor', 'spa', 'health', 'point_of_interest', 'establishment']\",\n",
       "       \"['bakery', 'food', 'store', 'point_of_interest', 'establishment']\",\n",
       "       \"['store', 'point_of_interest', 'establishment']\",\n",
       "       \"['furniture_store', 'home_goods_store', 'store', 'point_of_interest', 'establishment']\",\n",
       "       \"['clothing_store', 'store', 'point_of_interest', 'establishment']\",\n",
       "       \"['grocery_or_supermarket', 'food', 'store', 'point_of_interest', 'establishment']\",\n",
       "       \"['florist', 'store', 'point_of_interest', 'establishment']\",\n",
       "       \"['electronics_store', 'store', 'point_of_interest', 'establishment']\",\n",
       "       \"['home_goods_store', 'furniture_store', 'store', 'point_of_interest', 'establishment']\",\n",
       "       \"['health', 'store', 'point_of_interest', 'establishment']\",\n",
       "       \"['pharmacy', 'health', 'store', 'point_of_interest', 'establishment']\",\n",
       "       \"['home_goods_store', 'store', 'point_of_interest', 'establishment']\",\n",
       "       \"['car_dealer', 'store', 'point_of_interest', 'establishment']\",\n",
       "       \"['jewelry_store', 'store', 'point_of_interest', 'establishment']\",\n",
       "       \"['car_repair', 'store', 'point_of_interest', 'establishment']\",\n",
       "       \"['pet_store', 'store', 'point_of_interest', 'establishment']\",\n",
       "       \"['electronics_store', 'home_goods_store', 'store', 'point_of_interest', 'establishment']\",\n",
       "       \"['book_store', 'store', 'point_of_interest', 'establishment']\",\n",
       "       \"['movie_rental', 'store', 'point_of_interest', 'establishment']\",\n",
       "       \"['health', 'food', 'store', 'point_of_interest', 'establishment']\",\n",
       "       \"['hair_care', 'beauty_salon', 'store', 'point_of_interest', 'establishment']\",\n",
       "       \"['liquor_store', 'store', 'point_of_interest', 'establishment']\",\n",
       "       \"['cafe', 'restaurant', 'food', 'store', 'point_of_interest', 'establishment']\",\n",
       "       \"['meal_delivery', 'meal_takeaway', 'restaurant', 'food', 'point_of_interest', 'establishment']\",\n",
       "       \"['art_gallery', 'point_of_interest', 'establishment']\",\n",
       "       \"['hardware_store', 'general_contractor', 'store', 'point_of_interest', 'establishment']\",\n",
       "       \"['veterinary_care', 'store', 'point_of_interest', 'establishment']\",\n",
       "       \"['shoe_store', 'store', 'point_of_interest', 'establishment']\",\n",
       "       \"['doctor', 'health', 'store', 'point_of_interest', 'establishment']\",\n",
       "       \"['car_wash', 'car_repair', 'store', 'point_of_interest', 'establishment']\",\n",
       "       \"['storage', 'store', 'point_of_interest', 'establishment']\",\n",
       "       \"['car_dealer', 'car_repair', 'store', 'point_of_interest', 'establishment']\",\n",
       "       \"['convenience_store', 'food', 'store', 'point_of_interest', 'establishment']\",\n",
       "       \"['department_store', 'store', 'point_of_interest', 'establishment']\",\n",
       "       \"['food', 'store', 'point_of_interest', 'establishment']\",\n",
       "       \"['library', 'point_of_interest', 'establishment']\",\n",
       "       \"['general_contractor', 'store', 'point_of_interest', 'establishment']\",\n",
       "       \"['electronics_store', 'car_repair', 'store', 'point_of_interest', 'establishment']\",\n",
       "       \"['liquor_store', 'food', 'store', 'point_of_interest', 'establishment']\",\n",
       "       \"['moving_company', 'storage', 'store', 'point_of_interest', 'establishment']\",\n",
       "       \"['hospital', 'health', 'store', 'point_of_interest', 'establishment']\",\n",
       "       \"['electronics_store', 'car_repair', 'home_goods_store', 'store', 'point_of_interest', 'establishment']\",\n",
       "       \"['real_estate_agency', 'food', 'store', 'point_of_interest', 'establishment']\",\n",
       "       \"['restaurant', 'cafe', 'food', 'point_of_interest', 'establishment']\",\n",
       "       \"['restaurant', 'food', 'store', 'point_of_interest', 'establishment']\",\n",
       "       \"['city_hall', 'park', 'local_government_office', 'point_of_interest', 'establishment']\",\n",
       "       \"['finance', 'store', 'point_of_interest', 'establishment']\",\n",
       "       \"['gas_station', 'convenience_store', 'food', 'car_repair', 'store', 'point_of_interest', 'establishment']\",\n",
       "       \"['department_store', 'electronics_store', 'clothing_store', 'furniture_store', 'home_goods_store', 'store', 'point_of_interest', 'establishment']\",\n",
       "       \"['general_contractor', 'home_goods_store', 'store', 'point_of_interest', 'establishment']\",\n",
       "       \"['car_rental', 'car_dealer', 'store', 'point_of_interest', 'establishment']\",\n",
       "       \"['amusement_park', 'point_of_interest', 'establishment']\",\n",
       "       \"['bar', 'restaurant', 'food', 'point_of_interest', 'establishment']\",\n",
       "       \"['convenience_store', 'atm', 'restaurant', 'food', 'finance', 'store', 'point_of_interest', 'establishment']\",\n",
       "       \"['bakery', 'meal_takeaway', 'restaurant', 'food', 'store', 'point_of_interest', 'establishment']\",\n",
       "       \"['spa', 'hair_care', 'beauty_salon', 'point_of_interest', 'establishment']\",\n",
       "       \"['beauty_salon', 'hair_care', 'spa', 'health', 'point_of_interest', 'establishment']\",\n",
       "       \"['gas_station', 'convenience_store', 'food', 'store', 'point_of_interest', 'establishment']\",\n",
       "       \"['food', 'home_goods_store', 'store', 'point_of_interest', 'establishment']\",\n",
       "       \"['beauty_salon', 'hair_care', 'health', 'store', 'point_of_interest', 'establishment']\",\n",
       "       \"['bicycle_store', 'store', 'point_of_interest', 'establishment']\",\n",
       "       \"['health', 'furniture_store', 'home_goods_store', 'store', 'point_of_interest', 'establishment']\",\n",
       "       \"['general_contractor', 'painter', 'home_goods_store', 'store', 'point_of_interest', 'establishment']\",\n",
       "       \"['shoe_store', 'clothing_store', 'store', 'point_of_interest', 'establishment']\",\n",
       "       \"['art_gallery', 'hair_care', 'health', 'clothing_store', 'store', 'point_of_interest', 'establishment']\",\n",
       "       \"['cafe', 'grocery_or_supermarket', 'health', 'food', 'store', 'point_of_interest', 'establishment']\",\n",
       "       \"['pharmacy', 'convenience_store', 'health', 'food', 'store', 'point_of_interest', 'establishment']\",\n",
       "       \"['florist', 'home_goods_store', 'store', 'point_of_interest', 'establishment']\",\n",
       "       \"['bar', 'night_club', 'restaurant', 'food', 'point_of_interest', 'establishment']\",\n",
       "       \"['meal_delivery', 'restaurant', 'food', 'point_of_interest', 'establishment']\",\n",
       "       \"['bar', 'night_club', 'point_of_interest', 'establishment']\",\n",
       "       \"['night_club', 'bar', 'point_of_interest', 'establishment']\",\n",
       "       \"['night_club', 'point_of_interest', 'establishment']\",\n",
       "       \"['spa', 'store', 'point_of_interest', 'establishment']\",\n",
       "       \"['beauty_salon', 'spa', 'health', 'point_of_interest', 'establishment']\",\n",
       "       \"['grocery_or_supermarket', 'bakery', 'food', 'store', 'point_of_interest', 'establishment']\",\n",
       "       \"['car_dealer', 'furniture_store', 'home_goods_store', 'store', 'point_of_interest', 'establishment']\",\n",
       "       \"['convenience_store', 'health', 'food', 'store', 'point_of_interest', 'establishment']\",\n",
       "       \"['electronics_store', 'clothing_store', 'store', 'point_of_interest', 'establishment']\",\n",
       "       \"['bakery', 'pet_store', 'grocery_or_supermarket', 'food', 'store', 'point_of_interest', 'establishment']\",\n",
       "       \"['beauty_salon', 'store', 'point_of_interest', 'establishment']\",\n",
       "       \"['laundry', 'store', 'point_of_interest', 'establishment']\",\n",
       "       \"['travel_agency', 'local_government_office', 'point_of_interest', 'establishment']\",\n",
       "       \"['travel_agency', 'finance', 'lawyer', 'point_of_interest', 'establishment']\",\n",
       "       \"['bar', 'restaurant', 'food', 'store', 'point_of_interest', 'establishment']\",\n",
       "       \"['night_club', 'bar', 'restaurant', 'food', 'point_of_interest', 'establishment']\",\n",
       "       \"['bakery', 'cafe', 'restaurant', 'food', 'store', 'point_of_interest', 'establishment']\",\n",
       "       \"['bakery', 'restaurant', 'food', 'store', 'point_of_interest', 'establishment']\",\n",
       "       \"['health', 'clothing_store', 'home_goods_store', 'store', 'point_of_interest', 'establishment']\",\n",
       "       \"['home_goods_store', 'shopping_mall', 'store', 'point_of_interest', 'establishment']\",\n",
       "       \"['electronics_store', 'insurance_agency', 'store', 'point_of_interest', 'establishment']\",\n",
       "       \"['clothing_store', 'jewelry_store', 'store', 'point_of_interest', 'establishment']\",\n",
       "       \"['plumber', 'general_contractor', 'store', 'point_of_interest', 'establishment']\",\n",
       "       \"['cafe', 'bar', 'restaurant', 'food', 'point_of_interest', 'establishment']\",\n",
       "       \"['bakery', 'cafe', 'meal_takeaway', 'restaurant', 'food', 'store', 'point_of_interest', 'establishment']\",\n",
       "       \"['convenience_store', 'grocery_or_supermarket', 'restaurant', 'food', 'store', 'point_of_interest', 'establishment']\",\n",
       "       \"['cafe', 'bakery', 'restaurant', 'food', 'store', 'point_of_interest', 'establishment']\",\n",
       "       \"['cafe', 'meal_takeaway', 'restaurant', 'food', 'store', 'point_of_interest', 'establishment']\",\n",
       "       \"['restaurant', 'cafe', 'food', 'store', 'point_of_interest', 'establishment']\",\n",
       "       \"['meal_takeaway', 'restaurant', 'food', 'store', 'point_of_interest', 'establishment']\",\n",
       "       \"['cafe', 'health', 'restaurant', 'food', 'store', 'point_of_interest', 'establishment']\",\n",
       "       \"['bar', 'liquor_store', 'grocery_or_supermarket', 'food', 'store', 'point_of_interest', 'establishment']\",\n",
       "       \"['art_gallery', 'store', 'point_of_interest', 'establishment']\",\n",
       "       \"['grocery_or_supermarket', 'cafe', 'food', 'store', 'point_of_interest', 'establishment']\",\n",
       "       \"['park', 'premise', 'university', 'point_of_interest', 'establishment']\",\n",
       "       \"['gym', 'spa', 'health', 'point_of_interest', 'establishment']\",\n",
       "       \"['spa', 'church', 'place_of_worship', 'health', 'point_of_interest', 'establishment']\",\n",
       "       \"['spa', 'health', 'store', 'point_of_interest', 'establishment']\",\n",
       "       \"['spa', 'beauty_salon', 'health', 'point_of_interest', 'establishment']\",\n",
       "       \"['hair_care', 'beauty_salon', 'spa', 'health', 'clothing_store', 'store', 'point_of_interest', 'establishment']\",\n",
       "       \"['shoe_store', 'jewelry_store', 'clothing_store', 'store', 'point_of_interest', 'establishment']\",\n",
       "       \"['clothing_store', 'furniture_store', 'home_goods_store', 'store', 'point_of_interest', 'establishment']\",\n",
       "       \"['hair_care', 'beauty_salon', 'health', 'store', 'point_of_interest', 'establishment']\",\n",
       "       \"['clothing_store', 'department_store', 'shoe_store', 'store', 'point_of_interest', 'establishment']\",\n",
       "       \"['general_contractor', 'electronics_store', 'home_goods_store', 'store', 'point_of_interest', 'establishment']\",\n",
       "       \"['department_store', 'shoe_store', 'jewelry_store', 'clothing_store', 'furniture_store', 'home_goods_store', 'store', 'point_of_interest', 'establishment']\",\n",
       "       \"['grocery_or_supermarket', 'liquor_store', 'florist', 'health', 'food', 'store', 'point_of_interest', 'establishment']\",\n",
       "       \"['convenience_store', 'health', 'food', 'clothing_store', 'store', 'point_of_interest', 'establishment']\",\n",
       "       \"['department_store', 'jewelry_store', 'clothing_store', 'store', 'point_of_interest', 'establishment']\",\n",
       "       \"['clothing_store', 'home_goods_store', 'store', 'point_of_interest', 'establishment']\",\n",
       "       \"['department_store', 'shopping_mall', 'store', 'point_of_interest', 'establishment']\",\n",
       "       \"['clothing_store', 'shoe_store', 'store', 'point_of_interest', 'establishment']\",\n",
       "       \"['grocery_or_supermarket', 'food', 'furniture_store', 'home_goods_store', 'store', 'point_of_interest', 'establishment']\",\n",
       "       \"['book_store', 'jewelry_store', 'home_goods_store', 'store', 'point_of_interest', 'establishment']\",\n",
       "       \"['store', 'clothing_store', 'furniture_store', 'home_goods_store', 'point_of_interest', 'establishment']\",\n",
       "       \"['convenience_store', 'grocery_or_supermarket', 'food', 'store', 'point_of_interest', 'establishment']\",\n",
       "       \"['beauty_salon', 'health', 'store', 'point_of_interest', 'establishment']\",\n",
       "       \"['hair_care', 'beauty_salon', 'clothing_store', 'store', 'point_of_interest', 'establishment']\",\n",
       "       \"['travel_agency', 'real_estate_agency', 'point_of_interest', 'establishment']\",\n",
       "       \"['park', 'premise', 'point_of_interest', 'establishment']\",\n",
       "       \"['stadium', 'premise', 'point_of_interest', 'establishment']\",\n",
       "       \"['painter', 'general_contractor', 'home_goods_store', 'store', 'point_of_interest', 'establishment']\",\n",
       "       \"['stadium', 'point_of_interest', 'establishment']\",\n",
       "       \"['florist', 'food', 'store', 'point_of_interest', 'establishment']\",\n",
       "       \"['restaurant', 'meal_takeaway', 'food', 'point_of_interest', 'establishment']\",\n",
       "       \"['convenience_store', 'gas_station', 'atm', 'restaurant', 'food', 'finance', 'store', 'point_of_interest', 'establishment']\",\n",
       "       \"['plumber', 'general_contractor', 'home_goods_store', 'store', 'point_of_interest', 'establishment']\",\n",
       "       \"['train_station', 'transit_station', 'point_of_interest', 'establishment']\",\n",
       "       \"['general_contractor', 'furniture_store', 'home_goods_store', 'store', 'point_of_interest', 'establishment']\",\n",
       "       \"['hardware_store', 'store', 'point_of_interest', 'establishment']\",\n",
       "       \"['electronics_store', 'furniture_store', 'home_goods_store', 'store', 'point_of_interest', 'establishment']\",\n",
       "       \"['car_repair', 'furniture_store', 'home_goods_store', 'store', 'point_of_interest', 'establishment']\",\n",
       "       \"['furniture_store', 'electronics_store', 'home_goods_store', 'store', 'point_of_interest', 'establishment']\",\n",
       "       \"['furniture_store', 'travel_agency', 'electronics_store', 'home_goods_store', 'store', 'point_of_interest', 'establishment']\",\n",
       "       \"['clothing_store', 'department_store', 'shoe_store', 'home_goods_store', 'store', 'point_of_interest', 'establishment']\",\n",
       "       \"['jewelry_store', 'finance', 'store', 'point_of_interest', 'establishment']\",\n",
       "       \"['atm', 'finance', 'store', 'point_of_interest', 'establishment']\",\n",
       "       \"['meal_takeaway', 'bar', 'restaurant', 'food', 'point_of_interest', 'establishment']\",\n",
       "       \"['cafe', 'bakery', 'food', 'store', 'point_of_interest', 'establishment']\",\n",
       "       \"['hair_care', 'beauty_salon', 'doctor', 'spa', 'health', 'point_of_interest', 'establishment']\",\n",
       "       \"['beauty_salon', 'doctor', 'spa', 'health', 'point_of_interest', 'establishment']\",\n",
       "       \"['home_goods_store', 'pet_store', 'grocery_or_supermarket', 'food', 'furniture_store', 'store', 'point_of_interest', 'establishment']\",\n",
       "       \"['roofing_contractor', 'store', 'point_of_interest', 'establishment']\",\n",
       "       \"['pharmacy', 'doctor', 'health', 'store', 'point_of_interest', 'establishment']\",\n",
       "       \"['airport', 'point_of_interest', 'establishment']\",\n",
       "       \"['light_rail_station', 'transit_station', 'point_of_interest', 'establishment']\",\n",
       "       \"['bar', 'liquor_store', 'food', 'clothing_store', 'store', 'point_of_interest', 'establishment']\",\n",
       "       \"['art_gallery', 'furniture_store', 'home_goods_store', 'store', 'point_of_interest', 'establishment']\",\n",
       "       \"['cafe', 'park', 'food', 'point_of_interest', 'establishment']\",\n",
       "       \"['book_store', 'library', 'store', 'point_of_interest', 'establishment']\",\n",
       "       \"['campground', 'park', 'lodging', 'point_of_interest', 'establishment']\",\n",
       "       \"['beauty_salon', 'spa', 'point_of_interest', 'establishment']\",\n",
       "       \"['grocery_or_supermarket', 'health', 'food', 'store', 'point_of_interest', 'establishment']\",\n",
       "       \"['hardware_store', 'general_contractor', 'home_goods_store', 'store', 'point_of_interest', 'establishment']\",\n",
       "       \"['hair_care', 'clothing_store', 'store', 'point_of_interest', 'establishment']\",\n",
       "       \"['laundry', 'home_goods_store', 'store', 'point_of_interest', 'establishment']\",\n",
       "       \"['dentist', 'health', 'store', 'point_of_interest', 'establishment']\",\n",
       "       \"['food', 'car_repair', 'store', 'point_of_interest', 'establishment']\",\n",
       "       \"['finance', 'furniture_store', 'home_goods_store', 'store', 'point_of_interest', 'establishment']\",\n",
       "       \"['car_dealer', 'health', 'car_repair', 'store', 'point_of_interest', 'establishment']\",\n",
       "       \"['school', 'clothing_store', 'store', 'point_of_interest', 'establishment']\",\n",
       "       \"['bar', 'cafe', 'restaurant', 'food', 'point_of_interest', 'establishment']\",\n",
       "       \"['restaurant', 'cafe', 'meal_takeaway', 'food', 'point_of_interest', 'establishment']\",\n",
       "       \"['bakery', 'bar', 'night_club', 'restaurant', 'food', 'store', 'point_of_interest', 'establishment']\",\n",
       "       \"['shopping_mall', 'movie_theater', 'restaurant', 'food', 'clothing_store', 'home_goods_store', 'store', 'point_of_interest', 'establishment']\",\n",
       "       \"['bar', 'night_club', 'food', 'point_of_interest', 'establishment']\",\n",
       "       \"['cafe', 'bar', 'food', 'store', 'point_of_interest', 'establishment']\",\n",
       "       \"['bar', 'liquor_store', 'food', 'store', 'point_of_interest', 'establishment']\",\n",
       "       \"['bar', 'food', 'point_of_interest', 'establishment']\",\n",
       "       \"['jewelry_store', 'art_gallery', 'store', 'point_of_interest', 'establishment']\",\n",
       "       \"['art_gallery', 'book_store', 'clothing_store', 'store', 'point_of_interest', 'establishment']\",\n",
       "       \"['beauty_salon', 'hair_care', 'spa', 'point_of_interest', 'establishment']\",\n",
       "       \"['finance', 'clothing_store', 'store', 'point_of_interest', 'establishment']\",\n",
       "       \"['book_store', 'travel_agency', 'store', 'point_of_interest', 'establishment']\",\n",
       "       \"['accounting', 'electrician', 'finance', 'store', 'point_of_interest', 'establishment']\",\n",
       "       \"['book_store', 'clothing_store', 'store', 'point_of_interest', 'establishment']\",\n",
       "       \"['health', 'clothing_store', 'store', 'point_of_interest', 'establishment']\",\n",
       "       \"['pet_store', 'bakery', 'food', 'store', 'point_of_interest', 'establishment']\",\n",
       "       \"['shoe_store', 'clothing_store', 'home_goods_store', 'store', 'point_of_interest', 'establishment']\",\n",
       "       \"['florist', 'general_contractor', 'store', 'point_of_interest', 'establishment']\",\n",
       "       \"['hardware_store', 'home_goods_store', 'store', 'point_of_interest', 'establishment']\",\n",
       "       \"['grocery_or_supermarket', 'department_store', 'food', 'store', 'point_of_interest', 'establishment']\",\n",
       "       \"['shopping_mall', 'store', 'point_of_interest', 'establishment']\",\n",
       "       \"['clothing_store', 'shoe_store', 'jewelry_store', 'store', 'point_of_interest', 'establishment']\",\n",
       "       \"['clothing_store', 'shoe_store', 'home_goods_store', 'store', 'point_of_interest', 'establishment']\",\n",
       "       \"['shoe_store', 'gym', 'health', 'clothing_store', 'store', 'point_of_interest', 'establishment']\",\n",
       "       \"['food', 'furniture_store', 'home_goods_store', 'store', 'point_of_interest', 'establishment']\",\n",
       "       \"['grocery_or_supermarket', 'health', 'restaurant', 'food', 'store', 'point_of_interest', 'establishment']\",\n",
       "       \"['beauty_salon', 'hair_care', 'store', 'point_of_interest', 'establishment']\",\n",
       "       \"['art_gallery', 'museum', 'clothing_store', 'store', 'point_of_interest', 'establishment']\",\n",
       "       \"['doctor', 'beauty_salon', 'spa', 'health', 'point_of_interest', 'establishment']\",\n",
       "       \"['pharmacy', 'doctor', 'health', 'food', 'store', 'point_of_interest', 'establishment']\",\n",
       "       \"['gym', 'health', 'clothing_store', 'store', 'point_of_interest', 'establishment']\",\n",
       "       \"['doctor', 'spa', 'health', 'store', 'point_of_interest', 'establishment']\",\n",
       "       \"['grocery_or_supermarket', 'restaurant', 'food', 'store', 'point_of_interest', 'establishment']\",\n",
       "       \"['grocery_or_supermarket', 'liquor_store', 'food', 'store', 'point_of_interest', 'establishment']\",\n",
       "       \"['bowling_alley', 'bar', 'point_of_interest', 'establishment']\",\n",
       "       \"['art_gallery', 'home_goods_store', 'store', 'point_of_interest', 'establishment']\",\n",
       "       \"['premise', 'park', 'point_of_interest', 'establishment']\",\n",
       "       \"['clothing_store', 'health', 'food', 'store', 'point_of_interest', 'establishment']\",\n",
       "       \"['hair_care', 'beauty_salon', 'doctor', 'spa', 'health', 'store', 'point_of_interest', 'establishment']\",\n",
       "       \"['clothing_store', 'grocery_or_supermarket', 'food', 'store', 'point_of_interest', 'establishment']\",\n",
       "       \"['grocery_or_supermarket', 'bakery', 'liquor_store', 'florist', 'food', 'store', 'point_of_interest', 'establishment']\",\n",
       "       \"['store', 'clothing_store', 'home_goods_store', 'point_of_interest', 'establishment']\",\n",
       "       \"['store', 'clothing_store', 'point_of_interest', 'establishment']\",\n",
       "       \"['gas_station', 'atm', 'convenience_store', 'food', 'finance', 'car_repair', 'store', 'point_of_interest', 'establishment']\",\n",
       "       \"['hair_care', 'store', 'point_of_interest', 'establishment']\",\n",
       "       \"['art_gallery', 'gym', 'health', 'clothing_store', 'store', 'point_of_interest', 'establishment']\",\n",
       "       \"['art_gallery', 'clothing_store', 'store', 'point_of_interest', 'establishment']\",\n",
       "       \"['church', 'place_of_worship', 'store', 'point_of_interest', 'establishment']\",\n",
       "       \"['gym', 'health', 'food', 'store', 'point_of_interest', 'establishment']\",\n",
       "       \"['restaurant', 'health', 'food', 'store', 'point_of_interest', 'establishment']\",\n",
       "       \"['art_gallery', 'bar', 'food', 'point_of_interest', 'establishment']\",\n",
       "       \"['art_gallery', 'book_store', 'store', 'point_of_interest', 'establishment']\",\n",
       "       \"['clothing_store', 'art_gallery', 'home_goods_store', 'store', 'point_of_interest', 'establishment']\",\n",
       "       \"['restaurant', 'meal_delivery', 'food', 'point_of_interest', 'establishment']\",\n",
       "       \"['cafe', 'grocery_or_supermarket', 'restaurant', 'food', 'furniture_store', 'home_goods_store', 'store', 'point_of_interest', 'establishment']\",\n",
       "       \"['hair_care', 'beauty_salon', 'spa', 'health', 'store', 'point_of_interest', 'establishment']\",\n",
       "       \"['transit_station', 'subway_station', 'light_rail_station', 'point_of_interest', 'establishment']\",\n",
       "       \"['police', 'local_government_office', 'airport', 'point_of_interest', 'establishment']\",\n",
       "       \"['travel_agency', 'finance', 'point_of_interest', 'establishment']\",\n",
       "       \"['cafe', 'grocery_or_supermarket', 'restaurant', 'food', 'store', 'point_of_interest', 'establishment']\",\n",
       "       \"['transit_station', 'bus_station', 'train_station', 'point_of_interest', 'establishment']\",\n",
       "       \"['subway_station', 'transit_station', 'point_of_interest', 'establishment']\",\n",
       "       \"['shopping_mall', 'clothing_store', 'store', 'point_of_interest', 'establishment']\",\n",
       "       \"['painter', 'art_gallery', 'point_of_interest', 'establishment']\",\n",
       "       \"['shopping_mall', 'neighborhood', 'political', 'point_of_interest', 'establishment']\",\n",
       "       \"['liquor_store', 'bar', 'store', 'point_of_interest', 'establishment']\",\n",
       "       \"['funeral_home', 'cemetery', 'park', 'florist', 'store', 'point_of_interest', 'establishment']\",\n",
       "       \"['bar', 'meal_takeaway', 'restaurant', 'food', 'point_of_interest', 'establishment']\",\n",
       "       \"['meal_delivery', 'cafe', 'meal_takeaway', 'bar', 'restaurant', 'food', 'store', 'point_of_interest', 'establishment']\",\n",
       "       \"['art_gallery', 'painter', 'point_of_interest', 'establishment']\",\n",
       "       \"['restaurant', 'meal_takeaway', 'food', 'store', 'point_of_interest', 'establishment']\",\n",
       "       \"['cafe', 'meal_takeaway', 'restaurant', 'food', 'point_of_interest', 'establishment']\",\n",
       "       \"['hair_care', 'health', 'restaurant', 'food', 'point_of_interest', 'establishment']\",\n",
       "       \"['restaurant', 'bakery', 'food', 'store', 'point_of_interest', 'establishment']\",\n",
       "       \"['grocery_or_supermarket', 'meal_takeaway', 'restaurant', 'food', 'store', 'point_of_interest', 'establishment']\",\n",
       "       \"['meal_takeaway', 'bar', 'restaurant', 'food', 'store', 'point_of_interest', 'establishment']\",\n",
       "       \"['cafe', 'bar', 'restaurant', 'food', 'store', 'point_of_interest', 'establishment']\",\n",
       "       \"['convenience_store', 'meal_takeaway', 'restaurant', 'food', 'store', 'point_of_interest', 'establishment']\",\n",
       "       \"['bakery', 'cafe', 'bar', 'liquor_store', 'grocery_or_supermarket', 'restaurant', 'food', 'store', 'point_of_interest', 'establishment']\",\n",
       "       \"['bar', 'night_club', 'store', 'point_of_interest', 'establishment']\",\n",
       "       \"['bar', 'health', 'point_of_interest', 'establishment']\",\n",
       "       \"['art_gallery', 'real_estate_agency', 'point_of_interest', 'establishment']\",\n",
       "       \"['art_gallery', 'book_store', 'food', 'store', 'point_of_interest', 'establishment']\",\n",
       "       \"['art_gallery', 'jewelry_store', 'store', 'point_of_interest', 'establishment']\",\n",
       "       \"['art_gallery', 'jewelry_store', 'clothing_store', 'store', 'point_of_interest', 'establishment']\",\n",
       "       \"['art_gallery', 'museum', 'point_of_interest', 'establishment']\",\n",
       "       \"['library', 'real_estate_agency', 'point_of_interest', 'establishment']\",\n",
       "       \"['real_estate_agency', 'lodging', 'point_of_interest', 'establishment']\",\n",
       "       \"['spa', 'lodging', 'health', 'point_of_interest', 'establishment']\",\n",
       "       \"['parking', 'lodging', 'point_of_interest', 'establishment']\",\n",
       "       \"['travel_agency', 'car_rental', 'lodging', 'point_of_interest', 'establishment']\",\n",
       "       \"['night_club', 'travel_agency', 'point_of_interest', 'establishment']\",\n",
       "       \"['travel_agency', 'car_rental', 'point_of_interest', 'establishment']\",\n",
       "       \"['shopping_mall', 'home_goods_store', 'store', 'point_of_interest', 'establishment']\",\n",
       "       \"['jewelry_store', 'shopping_mall', 'store', 'point_of_interest', 'establishment']\",\n",
       "       \"['doctor', 'travel_agency', 'health', 'point_of_interest', 'establishment']\",\n",
       "       \"['travel_agency', 'school', 'point_of_interest', 'establishment']\",\n",
       "       \"['travel_agency', 'embassy', 'local_government_office', 'point_of_interest', 'establishment']\",\n",
       "       \"['travel_agency', 'health', 'point_of_interest', 'establishment']\",\n",
       "       \"['courthouse', 'meal_takeaway', 'restaurant', 'food', 'point_of_interest', 'establishment']\",\n",
       "       \"['library', 'local_government_office', 'point_of_interest', 'establishment']\",\n",
       "       \"['restaurant', 'meal_delivery', 'meal_takeaway', 'food', 'point_of_interest', 'establishment']\",\n",
       "       \"['lodging', 'restaurant', 'food', 'point_of_interest', 'establishment']\",\n",
       "       \"['convenience_store', 'cafe', 'meal_takeaway', 'restaurant', 'food', 'store', 'point_of_interest', 'establishment']\",\n",
       "       \"['real_estate_agency', 'restaurant', 'food', 'point_of_interest', 'establishment']\",\n",
       "       \"['cafe', 'bakery', 'meal_takeaway', 'restaurant', 'food', 'store', 'point_of_interest', 'establishment']\",\n",
       "       \"['lawyer', 'art_gallery', 'library', 'point_of_interest', 'establishment']\",\n",
       "       \"['library', 'store', 'point_of_interest', 'establishment']\",\n",
       "       \"['travel_agency', 'real_estate_agency', 'lodging', 'point_of_interest', 'establishment']\",\n",
       "       \"['premise', 'lodging', 'point_of_interest', 'establishment']\",\n",
       "       \"['clothing_store', 'bakery', 'lodging', 'food', 'store', 'point_of_interest', 'establishment']\",\n",
       "       \"['spa', 'gym', 'beauty_salon', 'health', 'point_of_interest', 'establishment']\",\n",
       "       \"['moving_company', 'storage', 'airport', 'finance', 'point_of_interest', 'establishment']\",\n",
       "       \"['travel_agency', 'local_government_office', 'health', 'point_of_interest', 'establishment']\",\n",
       "       \"['park', 'local_government_office', 'point_of_interest', 'establishment']\",\n",
       "       \"['beauty_salon', 'hair_care', 'doctor', 'spa', 'health', 'point_of_interest', 'establishment']\",\n",
       "       \"['night_club', 'restaurant', 'food', 'point_of_interest', 'establishment']\",\n",
       "       \"['meal_delivery', 'meal_takeaway', 'restaurant', 'food', 'store', 'point_of_interest', 'establishment']\",\n",
       "       \"['convenience_store', 'meal_takeaway', 'liquor_store', 'grocery_or_supermarket', 'restaurant', 'food', 'store', 'point_of_interest', 'establishment']\",\n",
       "       \"['movie_theater', 'night_club', 'point_of_interest', 'establishment']\",\n",
       "       \"['art_gallery', 'lawyer', 'point_of_interest', 'establishment']\",\n",
       "       \"['art_gallery', 'restaurant', 'food', 'point_of_interest', 'establishment']\",\n",
       "       \"['florist', 'shopping_mall', 'store', 'point_of_interest', 'establishment']\",\n",
       "       \"['restaurant', 'cafe', 'bar', 'food', 'point_of_interest', 'establishment']\",\n",
       "       \"['art_gallery', 'hair_care', 'point_of_interest', 'establishment']\",\n",
       "       \"['art_gallery', 'university', 'school', 'point_of_interest', 'establishment']\",\n",
       "       \"['premise', 'park', 'university', 'point_of_interest', 'establishment']\",\n",
       "       \"['travel_agency', 'premise', 'point_of_interest', 'establishment']\",\n",
       "       \"['car_wash', 'shopping_mall', 'point_of_interest', 'establishment']\",\n",
       "       \"['department_store', 'shopping_mall', 'restaurant', 'food', 'store', 'point_of_interest', 'establishment']\",\n",
       "       \"['laundry', 'bar', 'night_club', 'lodging', 'point_of_interest', 'establishment']\",\n",
       "       \"['art_gallery', 'school', 'point_of_interest', 'establishment']\",\n",
       "       \"['university', 'lodging', 'point_of_interest', 'establishment']\",\n",
       "       \"['gas_station', 'convenience_store', 'restaurant', 'food', 'store', 'point_of_interest', 'establishment']\",\n",
       "       \"['school', 'museum', 'point_of_interest', 'establishment']\",\n",
       "       \"['accounting', 'travel_agency', 'finance', 'point_of_interest', 'establishment']\",\n",
       "       \"['hair_care', 'spa', 'health', 'point_of_interest', 'establishment']\",\n",
       "       \"['shopping_mall', 'travel_agency', 'point_of_interest', 'establishment']\",\n",
       "       \"['university', 'travel_agency', 'point_of_interest', 'establishment']\",\n",
       "       \"['cafe', 'meal_takeaway', 'bar', 'night_club', 'restaurant', 'food', 'store', 'point_of_interest', 'establishment']\",\n",
       "       \"['accounting', 'health', 'restaurant', 'food', 'finance', 'car_repair', 'furniture_store', 'home_goods_store', 'store', 'point_of_interest', 'establishment']\",\n",
       "       \"['restaurant', 'grocery_or_supermarket', 'food', 'store', 'point_of_interest', 'establishment']\",\n",
       "       \"['art_gallery', 'hair_care', 'beauty_salon', 'point_of_interest', 'establishment']\",\n",
       "       \"['pet_store', 'cafe', 'food', 'clothing_store', 'home_goods_store', 'store', 'point_of_interest', 'establishment']\",\n",
       "       \"['car_dealer', 'car_rental', 'store', 'point_of_interest', 'establishment']\",\n",
       "       \"['cafe', 'bar', 'night_club', 'restaurant', 'food', 'point_of_interest', 'establishment']\",\n",
       "       \"['general_contractor', 'lodging', 'point_of_interest', 'establishment']\",\n",
       "       \"['night_club', 'store', 'point_of_interest', 'establishment']\",\n",
       "       \"['museum', 'clothing_store', 'store', 'point_of_interest', 'establishment']\",\n",
       "       \"['meal_takeaway', 'bar', 'liquor_store', 'restaurant', 'food', 'store', 'point_of_interest', 'establishment']\",\n",
       "       \"['restaurant', 'meal_delivery', 'meal_takeaway', 'bar', 'food', 'point_of_interest', 'establishment']\",\n",
       "       \"['cafe', 'bakery', 'meal_takeaway', 'bar', 'restaurant', 'food', 'store', 'point_of_interest', 'establishment']\",\n",
       "       \"['cafe', 'food', 'clothing_store', 'store', 'point_of_interest', 'establishment']\",\n",
       "       \"['museum', 'store', 'point_of_interest', 'establishment']\",\n",
       "       \"['beauty_salon', 'hair_care', 'spa', 'health', 'store', 'point_of_interest', 'establishment']\",\n",
       "       \"['beauty_salon', 'art_gallery', 'point_of_interest', 'establishment']\",\n",
       "       \"['shopping_mall', 'jewelry_store', 'electronics_store', 'finance', 'store', 'point_of_interest', 'establishment']\",\n",
       "       \"['art_gallery', 'moving_company', 'general_contractor', 'electronics_store', 'home_goods_store', 'store', 'point_of_interest', 'establishment']\",\n",
       "       \"['beauty_salon', 'spa', 'health', 'store', 'point_of_interest', 'establishment']\",\n",
       "       \"['atm', 'lodging', 'finance', 'point_of_interest', 'establishment']\",\n",
       "       \"['natural_feature', 'health', 'food', 'store', 'point_of_interest', 'establishment']\",\n",
       "       \"['hair_care', 'bar', 'point_of_interest', 'establishment']\",\n",
       "       \"['electronics_store', 'food', 'store', 'point_of_interest', 'establishment']\",\n",
       "       \"['meal_delivery', 'bakery', 'meal_takeaway', 'restaurant', 'food', 'store', 'point_of_interest', 'establishment']\",\n",
       "       \"['art_gallery', 'library', 'point_of_interest', 'establishment']\",\n",
       "       \"['travel_agency', 'doctor', 'night_club', 'health', 'clothing_store', 'store', 'point_of_interest', 'establishment']\",\n",
       "       \"['spa', 'hair_care', 'beauty_salon', 'health', 'point_of_interest', 'establishment']\",\n",
       "       \"['jewelry_store', 'insurance_agency', 'clothing_store', 'furniture_store', 'home_goods_store', 'store', 'point_of_interest', 'establishment']\",\n",
       "       \"['laundry', 'clothing_store', 'store', 'point_of_interest', 'establishment']\",\n",
       "       \"['clothing_store', 'lawyer', 'store', 'point_of_interest', 'establishment']\",\n",
       "       \"['jewelry_store', 'clothing_store', 'store', 'point_of_interest', 'establishment']\",\n",
       "       \"['plumber', 'store', 'point_of_interest', 'establishment']\",\n",
       "       \"['book_store', 'art_gallery', 'museum', 'store', 'point_of_interest', 'establishment']\",\n",
       "       \"['lodging', 'food', 'point_of_interest', 'establishment']\",\n",
       "       \"['car_rental', 'moving_company', 'point_of_interest', 'establishment']\",\n",
       "       \"['meal_delivery', 'bar', 'restaurant', 'food', 'point_of_interest', 'establishment']\",\n",
       "       \"['library', 'lawyer', 'point_of_interest', 'establishment']\",\n",
       "       \"['health', 'home_goods_store', 'store', 'point_of_interest', 'establishment']\",\n",
       "       \"['grocery_or_supermarket', 'convenience_store', 'food', 'store', 'point_of_interest', 'establishment']\",\n",
       "       \"['laundry', 'finance', 'home_goods_store', 'store', 'point_of_interest', 'establishment']\",\n",
       "       \"['store', 'health', 'point_of_interest', 'establishment']\",\n",
       "       \"['shoe_store', 'shopping_mall', 'jewelry_store', 'store', 'point_of_interest', 'establishment']\",\n",
       "       \"['painter', 'home_goods_store', 'store', 'point_of_interest', 'establishment']\",\n",
       "       \"['home_goods_store', 'plumber', 'general_contractor', 'store', 'point_of_interest', 'establishment']\",\n",
       "       \"['locksmith', 'store', 'point_of_interest', 'establishment']\",\n",
       "       \"['cafe', 'meal_takeaway', 'park', 'restaurant', 'food', 'store', 'point_of_interest', 'establishment']\",\n",
       "       \"['hair_care', 'beauty_salon', 'bar', 'night_club', 'point_of_interest', 'establishment']\",\n",
       "       \"['beauty_salon', 'doctor', 'spa', 'health', 'store', 'point_of_interest', 'establishment']\",\n",
       "       \"['jewelry_store', 'place_of_worship', 'health', 'store', 'point_of_interest', 'establishment']\",\n",
       "       \"['jewelry_store', 'car_repair', 'store', 'point_of_interest', 'establishment']\",\n",
       "       \"['jewelry_store', 'health', 'store', 'point_of_interest', 'establishment']\",\n",
       "       \"['grocery_or_supermarket', 'food', 'lawyer', 'store', 'point_of_interest', 'establishment']\",\n",
       "       \"['laundry', 'general_contractor', 'home_goods_store', 'store', 'point_of_interest', 'establishment']\",\n",
       "       \"['locksmith', 'general_contractor', 'home_goods_store', 'store', 'point_of_interest', 'establishment']\",\n",
       "       \"['roofing_contractor', 'general_contractor', 'home_goods_store', 'store', 'point_of_interest', 'establishment']\",\n",
       "       \"['bakery', 'school', 'food', 'home_goods_store', 'store', 'point_of_interest', 'establishment']\",\n",
       "       \"['hair_care', 'health', 'store', 'point_of_interest', 'establishment']\",\n",
       "       \"['gym', 'school', 'health', 'clothing_store', 'store', 'point_of_interest', 'establishment']\",\n",
       "       \"['gym', 'health', 'store', 'point_of_interest', 'establishment']\",\n",
       "       \"['general_contractor', 'clothing_store', 'store', 'point_of_interest', 'establishment']\",\n",
       "       \"['bar', 'liquor_store', 'restaurant', 'food', 'store', 'point_of_interest', 'establishment']\",\n",
       "       \"['clothing_store', 'gym', 'beauty_salon', 'jewelry_store', 'spa', 'health', 'restaurant', 'food', 'store', 'point_of_interest', 'establishment']\",\n",
       "       \"['beauty_salon', 'dentist', 'hair_care', 'spa', 'health', 'point_of_interest', 'establishment']\",\n",
       "       \"['liquor_store', 'grocery_or_supermarket', 'food', 'store', 'point_of_interest', 'establishment']\",\n",
       "       \"['meal_delivery', 'liquor_store', 'grocery_or_supermarket', 'food', 'store', 'point_of_interest', 'establishment']\",\n",
       "       \"['general_contractor', 'food', 'store', 'point_of_interest', 'establishment']\",\n",
       "       \"['electrician', 'general_contractor', 'home_goods_store', 'store', 'point_of_interest', 'establishment']\",\n",
       "       \"['beauty_salon', 'doctor', 'health', 'store', 'point_of_interest', 'establishment']\",\n",
       "       \"['insurance_agency', 'car_repair', 'store', 'point_of_interest', 'establishment']\",\n",
       "       \"['department_store', 'clothing_store', 'store', 'point_of_interest', 'establishment']\",\n",
       "       \"['book_store', 'jewelry_store', 'store', 'point_of_interest', 'establishment']\",\n",
       "       \"['bakery', 'jewelry_store', 'electronics_store', 'health', 'food', 'home_goods_store', 'store', 'point_of_interest', 'establishment']\",\n",
       "       \"['travel_agency', 'airport', 'point_of_interest', 'establishment']\",\n",
       "       \"['grocery_or_supermarket', 'bakery', 'liquor_store', 'food', 'store', 'point_of_interest', 'establishment']\",\n",
       "       \"['meal_delivery', 'meal_takeaway', 'bar', 'restaurant', 'food', 'point_of_interest', 'establishment']\",\n",
       "       \"['spa', 'home_goods_store', 'store', 'point_of_interest', 'establishment']\",\n",
       "       \"['movie_theater', 'bar', 'point_of_interest', 'establishment']\",\n",
       "       \"['moving_company', 'car_dealer', 'store', 'point_of_interest', 'establishment']\",\n",
       "       \"['zoo', 'point_of_interest', 'establishment']\",\n",
       "       \"['painter', 'roofing_contractor', 'general_contractor', 'home_goods_store', 'store', 'point_of_interest', 'establishment']\",\n",
       "       \"['general_contractor', 'finance', 'home_goods_store', 'store', 'point_of_interest', 'establishment']\",\n",
       "       \"['gas_station', 'atm', 'convenience_store', 'food', 'finance', 'store', 'point_of_interest', 'establishment']\",\n",
       "       \"['home_goods_store', 'general_contractor', 'store', 'point_of_interest', 'establishment']\",\n",
       "       \"['jewelry_store', 'electronics_store', 'finance', 'store', 'point_of_interest', 'establishment']\",\n",
       "       \"['general_contractor', 'lawyer', 'store', 'point_of_interest', 'establishment']\",\n",
       "       \"['electrician', 'store', 'point_of_interest', 'establishment']\",\n",
       "       \"['car_dealer', 'pharmacy', 'health', 'store', 'point_of_interest', 'establishment']\",\n",
       "       \"['locksmith', 'food', 'store', 'point_of_interest', 'establishment']\",\n",
       "       \"['shopping_mall', 'hair_care', 'health', 'point_of_interest', 'establishment']\",\n",
       "       \"['park', 'store', 'point_of_interest', 'establishment']\",\n",
       "       \"['real_estate_agency', 'finance', 'store', 'point_of_interest', 'establishment']\",\n",
       "       \"['shopping_mall', 'department_store', 'shoe_store', 'restaurant', 'food', 'clothing_store', 'store', 'point_of_interest', 'establishment']\",\n",
       "       \"['department_store', 'shoe_store', 'jewelry_store', 'health', 'clothing_store', 'furniture_store', 'home_goods_store', 'store', 'point_of_interest', 'establishment']\",\n",
       "       \"['department_store', 'shoe_store', 'clothing_store', 'store', 'point_of_interest', 'establishment']\",\n",
       "       \"['art_gallery', 'museum', 'furniture_store', 'home_goods_store', 'store', 'point_of_interest', 'establishment']\",\n",
       "       \"['hospital', 'doctor', 'spa', 'health', 'point_of_interest', 'establishment']\",\n",
       "       \"['lawyer', 'clothing_store', 'store', 'point_of_interest', 'establishment']\",\n",
       "       \"['local_government_office', 'home_goods_store', 'store', 'point_of_interest', 'establishment']\",\n",
       "       \"['doctor', 'health', 'food', 'store', 'point_of_interest', 'establishment']\",\n",
       "       \"['premise', 'airport', 'point_of_interest', 'establishment']\",\n",
       "       \"['spa', 'beauty_salon', 'point_of_interest', 'establishment']\",\n",
       "       \"['dentist', 'hair_care', 'beauty_salon', 'doctor', 'spa', 'health', 'point_of_interest', 'establishment']\",\n",
       "       \"['convenience_store', 'jewelry_store', 'food', 'store', 'point_of_interest', 'establishment']\",\n",
       "       \"['general_contractor', 'car_repair', 'store', 'point_of_interest', 'establishment']\",\n",
       "       \"['department_store', 'electronics_store', 'home_goods_store', 'store', 'point_of_interest', 'establishment']\",\n",
       "       \"['bakery', 'grocery_or_supermarket', 'restaurant', 'food', 'store', 'point_of_interest', 'establishment']\",\n",
       "       \"['bar', 'school', 'point_of_interest', 'establishment']\",\n",
       "       \"['general_contractor', 'roofing_contractor', 'plumber', 'home_goods_store', 'store', 'point_of_interest', 'establishment']\",\n",
       "       \"['park', 'natural_feature', 'point_of_interest', 'establishment']\",\n",
       "       \"['lodging', 'store', 'point_of_interest', 'establishment']\",\n",
       "       \"['hair_care', 'beauty_salon', 'jewelry_store', 'spa', 'health', 'store', 'point_of_interest', 'establishment']\",\n",
       "       \"['hair_care', 'spa', 'point_of_interest', 'establishment']\",\n",
       "       \"['physiotherapist', 'beauty_salon', 'spa', 'health', 'point_of_interest', 'establishment']\",\n",
       "       \"['roofing_contractor', 'plumber', 'general_contractor', 'home_goods_store', 'store', 'point_of_interest', 'establishment']\",\n",
       "       \"['restaurant', 'meal_takeaway', 'bar', 'food', 'store', 'point_of_interest', 'establishment']\",\n",
       "       \"['storage', 'bar', 'liquor_store', 'food', 'store', 'point_of_interest', 'establishment']\",\n",
       "       \"['aquarium', 'general_contractor', 'point_of_interest', 'establishment']\",\n",
       "       \"['lodging', 'clothing_store', 'store', 'point_of_interest', 'establishment']\",\n",
       "       \"['general_contractor', 'spa', 'health', 'store', 'point_of_interest', 'establishment']\",\n",
       "       \"['hardware_store', 'storage', 'store', 'point_of_interest', 'establishment']\",\n",
       "       \"['general_contractor', 'electronics_store', 'store', 'point_of_interest', 'establishment']\",\n",
       "       \"['hair_care', 'beauty_salon', 'doctor', 'health', 'store', 'point_of_interest', 'establishment']\",\n",
       "       \"['car_dealer', 'finance', 'store', 'point_of_interest', 'establishment']\",\n",
       "       \"['car_wash', 'food', 'store', 'point_of_interest', 'establishment']\",\n",
       "       \"['electronics_store', 'real_estate_agency', 'store', 'point_of_interest', 'establishment']\",\n",
       "       \"['store', 'book_store', 'clothing_store', 'point_of_interest', 'establishment']\",\n",
       "       \"['university', 'park', 'point_of_interest', 'establishment']\",\n",
       "       \"['courthouse', 'park', 'point_of_interest', 'establishment']\",\n",
       "       \"['travel_agency', 'store', 'point_of_interest', 'establishment']\",\n",
       "       \"['art_gallery', 'general_contractor', 'store', 'point_of_interest', 'establishment']\",\n",
       "       \"['hair_care', 'beauty_salon', 'spa', 'lodging', 'health', 'point_of_interest', 'establishment']\",\n",
       "       \"['furniture_store', 'general_contractor', 'home_goods_store', 'store', 'point_of_interest', 'establishment']\",\n",
       "       \"['veterinary_care', 'pet_store', 'store', 'point_of_interest', 'establishment']\",\n",
       "       \"['book_store', 'health', 'store', 'point_of_interest', 'establishment']\",\n",
       "       \"['school', 'convenience_store', 'food', 'store', 'point_of_interest', 'establishment']\",\n",
       "       \"['meal_delivery', 'cafe', 'meal_takeaway', 'restaurant', 'food', 'point_of_interest', 'establishment']\",\n",
       "       \"['aquarium', 'pet_store', 'store', 'point_of_interest', 'establishment']\",\n",
       "       \"['cafe', 'bank', 'food', 'finance', 'store', 'point_of_interest', 'establishment']\",\n",
       "       \"['shoe_store', 'health', 'store', 'point_of_interest', 'establishment']\",\n",
       "       \"['night_club', 'health', 'store', 'point_of_interest', 'establishment']\",\n",
       "       \"['dentist', 'doctor', 'spa', 'health', 'point_of_interest', 'establishment']\",\n",
       "       \"['atm', 'gas_station', 'convenience_store', 'food', 'finance', 'car_repair', 'store', 'point_of_interest', 'establishment']\",\n",
       "       \"['doctor', 'health', 'home_goods_store', 'store', 'point_of_interest', 'establishment']\",\n",
       "       \"['painter', 'plumber', 'general_contractor', 'electrician', 'home_goods_store', 'store', 'point_of_interest', 'establishment']\",\n",
       "       \"['clothing_store', 'storage', 'store', 'point_of_interest', 'establishment']\",\n",
       "       \"['travel_agency', 'real_estate_agency', 'store', 'point_of_interest', 'establishment']\",\n",
       "       \"['storage', 'finance', 'store', 'point_of_interest', 'establishment']\",\n",
       "       \"['school', 'store', 'point_of_interest', 'establishment']\",\n",
       "       \"['book_store', 'home_goods_store', 'store', 'point_of_interest', 'establishment']\",\n",
       "       \"['clothing_store', 'health', 'store', 'point_of_interest', 'establishment']\",\n",
       "       \"['bicycle_store', 'jewelry_store', 'electronics_store', 'store', 'point_of_interest', 'establishment']\",\n",
       "       \"['art_gallery', 'jewelry_store', 'museum', 'store', 'point_of_interest', 'establishment']\",\n",
       "       \"['travel_agency', 'real_estate_agency', 'lodging', 'store', 'point_of_interest', 'establishment']\",\n",
       "       \"['atm', 'finance', 'clothing_store', 'store', 'point_of_interest', 'establishment']\",\n",
       "       \"['car_rental', 'car_repair', 'store', 'point_of_interest', 'establishment']\",\n",
       "       \"['restaurant', 'bicycle_store', 'food', 'store', 'point_of_interest', 'establishment']\",\n",
       "       \"['cafe', 'book_store', 'restaurant', 'food', 'store', 'point_of_interest', 'establishment']\",\n",
       "       \"['bicycle_store', 'shoe_store', 'store', 'point_of_interest', 'establishment']\",\n",
       "       \"['doctor', 'pharmacy', 'health', 'store', 'point_of_interest', 'establishment']\",\n",
       "       \"['jewelry_store', 'home_goods_store', 'store', 'point_of_interest', 'establishment']\",\n",
       "       \"['travel_agency', 'subpremise', 'point_of_interest', 'establishment']\",\n",
       "       \"['bowling_alley', 'bar', 'restaurant', 'food', 'point_of_interest', 'establishment']\",\n",
       "       \"['bakery', 'meal_takeaway', 'bar', 'restaurant', 'food', 'store', 'point_of_interest', 'establishment']\",\n",
       "       \"['bar', 'lodging', 'restaurant', 'food', 'point_of_interest', 'establishment']\",\n",
       "       \"['bar', 'night_club', 'real_estate_agency', 'point_of_interest', 'establishment']\",\n",
       "       \"['art_gallery', 'general_contractor', 'point_of_interest', 'establishment']\",\n",
       "       \"['shopping_mall', 'restaurant', 'food', 'clothing_store', 'store', 'point_of_interest', 'establishment']\",\n",
       "       \"['bakery', 'liquor_store', 'grocery_or_supermarket', 'restaurant', 'food', 'finance', 'store', 'point_of_interest', 'establishment']\",\n",
       "       \"['store', 'beauty_salon', 'spa', 'health', 'point_of_interest', 'establishment']\",\n",
       "       \"['spa', 'doctor', 'health', 'point_of_interest', 'establishment']\",\n",
       "       \"['hair_care', 'beauty_salon', 'spa', 'clothing_store', 'store', 'point_of_interest', 'establishment']\",\n",
       "       \"['spa', 'clothing_store', 'home_goods_store', 'store', 'point_of_interest', 'establishment']\",\n",
       "       \"['spa', 'beauty_salon', 'lodging', 'health', 'point_of_interest', 'establishment']\",\n",
       "       \"['shopping_mall', 'jewelry_store', 'clothing_store', 'store', 'point_of_interest', 'establishment']\",\n",
       "       \"['general_contractor', 'real_estate_agency', 'home_goods_store', 'store', 'point_of_interest', 'establishment']\",\n",
       "       \"['home_goods_store', 'finance', 'store', 'point_of_interest', 'establishment']\",\n",
       "       \"['airport', 'premise', 'point_of_interest', 'establishment']\",\n",
       "       \"['insurance_agency', 'store', 'point_of_interest', 'establishment']\",\n",
       "       \"['park', 'general_contractor', 'point_of_interest', 'establishment']\",\n",
       "       \"['rv_park', 'premise', 'lodging', 'point_of_interest', 'establishment']\",\n",
       "       \"['park', 'food', 'point_of_interest', 'establishment']\",\n",
       "       \"['cemetery', 'jewelry_store', 'store', 'point_of_interest', 'establishment']\",\n",
       "       \"['car_rental', 'travel_agency', 'point_of_interest', 'establishment']\",\n",
       "       \"['hardware_store', 'furniture_store', 'home_goods_store', 'store', 'point_of_interest', 'establishment']\",\n",
       "       \"['electronics_store', 'health', 'store', 'point_of_interest', 'establishment']\",\n",
       "       \"['art_gallery', 'food', 'museum', 'store', 'point_of_interest', 'establishment']\",\n",
       "       \"['car_repair', 'home_goods_store', 'store', 'point_of_interest', 'establishment']\",\n",
       "       \"['aquarium', 'pet_store', 'food', 'store', 'point_of_interest', 'establishment']\",\n",
       "       \"['art_gallery', 'spa', 'health', 'point_of_interest', 'establishment']\",\n",
       "       \"['home_goods_store', 'hardware_store', 'store', 'point_of_interest', 'establishment']\",\n",
       "       \"['car_wash', 'car_dealer', 'car_repair', 'store', 'point_of_interest', 'establishment']\",\n",
       "       \"['car_wash', 'electronics_store', 'car_repair', 'store', 'point_of_interest', 'establishment']\",\n",
       "       \"['electrician', 'home_goods_store', 'store', 'point_of_interest', 'establishment']\",\n",
       "       \"['post_office', 'finance', 'store', 'point_of_interest', 'establishment']\",\n",
       "       \"['clothing_store', 'food', 'store', 'point_of_interest', 'establishment']\",\n",
       "       \"['home_goods_store', 'clothing_store', 'store', 'point_of_interest', 'establishment']\",\n",
       "       \"['library', 'museum', 'point_of_interest', 'establishment']\",\n",
       "       \"['travel_agency', 'lodging', 'point_of_interest', 'establishment']\",\n",
       "       \"['cafe', 'meal_delivery', 'bakery', 'meal_takeaway', 'restaurant', 'food', 'store', 'point_of_interest', 'establishment']\",\n",
       "       \"['lodging', 'health', 'point_of_interest', 'establishment']\",\n",
       "       \"['local_government_office', 'museum', 'point_of_interest', 'establishment']\",\n",
       "       \"['convenience_store', 'gas_station', 'grocery_or_supermarket', 'food', 'store', 'point_of_interest', 'establishment']\",\n",
       "       \"['real_estate_agency', 'car_dealer', 'store', 'point_of_interest', 'establishment']\",\n",
       "       \"['pet_store', 'general_contractor', 'store', 'point_of_interest', 'establishment']\",\n",
       "       \"['travel_agency', 'book_store', 'jewelry_store', 'church', 'place_of_worship', 'home_goods_store', 'store', 'point_of_interest', 'establishment']\",\n",
       "       \"['book_store', 'health', 'food', 'store', 'point_of_interest', 'establishment']\",\n",
       "       \"['locksmith', 'electronics_store', 'store', 'point_of_interest', 'establishment']\",\n",
       "       \"['bicycle_store', 'car_repair', 'store', 'point_of_interest', 'establishment']\",\n",
       "       \"['convenience_store', 'liquor_store', 'food', 'store', 'point_of_interest', 'establishment']\",\n",
       "       \"['meal_delivery', 'cafe', 'restaurant', 'food', 'store', 'point_of_interest', 'establishment']\",\n",
       "       \"['cafe', 'grocery_or_supermarket', 'food', 'store', 'point_of_interest', 'establishment']\",\n",
       "       \"['university', 'museum', 'point_of_interest', 'establishment']\",\n",
       "       \"['park', 'university', 'point_of_interest', 'establishment']\",\n",
       "       \"['book_store', 'electronics_store', 'clothing_store', 'store', 'point_of_interest', 'establishment']\",\n",
       "       \"['gym', 'beauty_salon', 'spa', 'health', 'point_of_interest', 'establishment']\",\n",
       "       \"['bar', 'cafe', 'food', 'point_of_interest', 'establishment']\",\n",
       "       \"['art_gallery', 'night_club', 'point_of_interest', 'establishment']\",\n",
       "       \"['library', 'finance', 'lawyer', 'point_of_interest', 'establishment']\",\n",
       "       \"['university', 'library', 'point_of_interest', 'establishment']\",\n",
       "       \"['zoo', 'park', 'point_of_interest', 'establishment']\",\n",
       "       \"['liquor_store', 'bakery', 'food', 'store', 'point_of_interest', 'establishment']\",\n",
       "       \"['pharmacy', 'health', 'finance', 'store', 'point_of_interest', 'establishment']\",\n",
       "       \"['church', 'place_of_worship', 'food', 'lawyer', 'store', 'point_of_interest', 'establishment']\",\n",
       "       \"['convenience_store', 'liquor_store', 'food', 'furniture_store', 'home_goods_store', 'store', 'point_of_interest', 'establishment']\",\n",
       "       \"['place_of_worship', 'store', 'point_of_interest', 'establishment']\",\n",
       "       \"['parking', 'airport', 'point_of_interest', 'establishment']\",\n",
       "       \"['hair_care', 'bar', 'night_club', 'health', 'store', 'point_of_interest', 'establishment']\",\n",
       "       \"['restaurant', 'bakery', 'cafe', 'food', 'store', 'point_of_interest', 'establishment']\",\n",
       "       \"['general_contractor', 'plumber', 'store', 'point_of_interest', 'establishment']\",\n",
       "       \"['general_contractor', 'liquor_store', 'food', 'store', 'point_of_interest', 'establishment']\",\n",
       "       \"['natural_feature', 'store', 'point_of_interest', 'establishment']\",\n",
       "       \"['painter', 'plumber', 'general_contractor', 'home_goods_store', 'store', 'point_of_interest', 'establishment']\",\n",
       "       \"['church', 'park', 'place_of_worship', 'point_of_interest', 'establishment']\",\n",
       "       \"['convenience_store', 'liquor_store', 'grocery_or_supermarket', 'food', 'store', 'point_of_interest', 'establishment']\",\n",
       "       \"['food', 'museum', 'point_of_interest', 'establishment']\",\n",
       "       \"['bakery', 'cafe', 'liquor_store', 'restaurant', 'food', 'store', 'point_of_interest', 'establishment']\",\n",
       "       \"['book_store', 'jewelry_store', 'liquor_store', 'food', 'clothing_store', 'home_goods_store', 'store', 'point_of_interest', 'establishment']\",\n",
       "       \"['art_gallery', 'cafe', 'food', 'store', 'point_of_interest', 'establishment']\",\n",
       "       \"['art_gallery', 'gym', 'health', 'point_of_interest', 'establishment']\",\n",
       "       \"['art_gallery', 'lodging', 'store', 'point_of_interest', 'establishment']\",\n",
       "       \"['store', 'art_gallery', 'point_of_interest', 'establishment']\",\n",
       "       \"['store', 'hair_care', 'health', 'point_of_interest', 'establishment']\",\n",
       "       \"['accounting', 'finance', 'store', 'point_of_interest', 'establishment']\",\n",
       "       \"['atm', 'food', 'finance', 'store', 'point_of_interest', 'establishment']\",\n",
       "       \"['transit_station', 'light_rail_station', 'bus_station', 'point_of_interest', 'establishment']\",\n",
       "       \"['cafe', 'meal_takeaway', 'bar', 'restaurant', 'food', 'store', 'point_of_interest', 'establishment']\",\n",
       "       \"['meal_delivery', 'meal_takeaway', 'bar', 'night_club', 'restaurant', 'food', 'point_of_interest', 'establishment']\",\n",
       "       \"['cafe', 'park', 'bar', 'restaurant', 'food', 'point_of_interest', 'establishment']\",\n",
       "       \"['art_gallery', 'electronics_store', 'home_goods_store', 'store', 'point_of_interest', 'establishment']\",\n",
       "       \"['meal_delivery', 'restaurant', 'food', 'store', 'point_of_interest', 'establishment']\",\n",
       "       \"['night_club', 'cafe', 'bar', 'restaurant', 'food', 'store', 'point_of_interest', 'establishment']\",\n",
       "       \"['furniture_store', 'art_gallery', 'home_goods_store', 'store', 'point_of_interest', 'establishment']\",\n",
       "       \"['amusement_park', 'park', 'museum', 'point_of_interest', 'establishment']\",\n",
       "       \"['beauty_salon', 'gym', 'hair_care', 'spa', 'health', 'point_of_interest', 'establishment']\",\n",
       "       \"['bicycle_store', 'parking', 'store', 'point_of_interest', 'establishment']\",\n",
       "       \"['moving_company', 'store', 'point_of_interest', 'establishment']\",\n",
       "       \"['store', 'electronics_store', 'car_repair', 'home_goods_store', 'point_of_interest', 'establishment']\",\n",
       "       \"['general_contractor', 'car_dealer', 'store', 'point_of_interest', 'establishment']\",\n",
       "       \"['storage', 'liquor_store', 'food', 'store', 'point_of_interest', 'establishment']\",\n",
       "       \"['bowling_alley', 'bar', 'night_club', 'restaurant', 'food', 'point_of_interest', 'establishment']\",\n",
       "       \"['bar', 'night_club', 'lodging', 'point_of_interest', 'establishment']\",\n",
       "       \"['travel_agency', 'food', 'point_of_interest', 'establishment']\",\n",
       "       \"['bar', 'night_club', 'liquor_store', 'restaurant', 'food', 'store', 'point_of_interest', 'establishment']\",\n",
       "       \"['general_contractor', 'electronics_store', 'electrician', 'home_goods_store', 'store', 'point_of_interest', 'establishment']\",\n",
       "       \"['real_estate_agency', 'health', 'store', 'point_of_interest', 'establishment']\",\n",
       "       \"['jewelry_store', 'electronics_store', 'clothing_store', 'home_goods_store', 'store', 'point_of_interest', 'establishment']\",\n",
       "       \"['liquor_store', 'food', 'furniture_store', 'home_goods_store', 'store', 'point_of_interest', 'establishment']\",\n",
       "       \"['restaurant', 'bar', 'night_club', 'food', 'point_of_interest', 'establishment']\",\n",
       "       \"['book_store', 'art_gallery', 'store', 'point_of_interest', 'establishment']\",\n",
       "       \"['cafe', 'liquor_store', 'restaurant', 'food', 'store', 'point_of_interest', 'establishment']\",\n",
       "       \"['beauty_salon', 'spa', 'lodging', 'restaurant', 'food', 'point_of_interest', 'establishment']\",\n",
       "       \"['meal_delivery', 'convenience_store', 'liquor_store', 'grocery_or_supermarket', 'restaurant', 'food', 'store', 'point_of_interest', 'establishment']\",\n",
       "       \"['bakery', 'bar', 'restaurant', 'food', 'store', 'point_of_interest', 'establishment']\",\n",
       "       \"['bar', 'store', 'point_of_interest', 'establishment']\",\n",
       "       \"['general_contractor', 'electronics_store', 'electrician', 'store', 'point_of_interest', 'establishment']\",\n",
       "       \"['restaurant', 'meal_delivery', 'meal_takeaway', 'food', 'store', 'point_of_interest', 'establishment']\",\n",
       "       \"['doctor', 'health', 'finance', 'store', 'point_of_interest', 'establishment']\",\n",
       "       \"['beauty_salon', 'clothing_store', 'store', 'point_of_interest', 'establishment']\",\n",
       "       \"['health', 'food', 'clothing_store', 'store', 'point_of_interest', 'establishment']\",\n",
       "       \"['doctor', 'health', 'clothing_store', 'store', 'point_of_interest', 'establishment']\",\n",
       "       \"['jewelry_store', 'finance', 'furniture_store', 'home_goods_store', 'store', 'point_of_interest', 'establishment']\",\n",
       "       \"['department_store', 'jewelry_store', 'furniture_store', 'home_goods_store', 'store', 'point_of_interest', 'establishment']\",\n",
       "       \"['beauty_salon', 'hair_care', 'clothing_store', 'store', 'point_of_interest', 'establishment']\",\n",
       "       \"['accounting', 'finance', 'clothing_store', 'store', 'point_of_interest', 'establishment']\",\n",
       "       \"['hair_care', 'liquor_store', 'health', 'clothing_store', 'store', 'point_of_interest', 'establishment']\",\n",
       "       \"['lawyer', 'store', 'point_of_interest', 'establishment']\",\n",
       "       \"['transit_station', 'bus_station', 'point_of_interest', 'establishment']\",\n",
       "       \"['travel_agency', 'insurance_agency', 'car_repair', 'point_of_interest', 'establishment']\",\n",
       "       \"['travel_agency', 'lawyer', 'point_of_interest', 'establishment']\",\n",
       "       \"['art_gallery', 'storage', 'point_of_interest', 'establishment']\",\n",
       "       \"['meal_delivery', 'food', 'store', 'point_of_interest', 'establishment']\",\n",
       "       \"['general_contractor', 'painter', 'plumber', 'electrician', 'home_goods_store', 'store', 'point_of_interest', 'establishment']\",\n",
       "       \"['electronics_store', 'police', 'local_government_office', 'home_goods_store', 'store', 'point_of_interest', 'establishment']\",\n",
       "       \"['shopping_mall', 'department_store', 'movie_theater', 'shoe_store', 'restaurant', 'food', 'clothing_store', 'store', 'point_of_interest', 'establishment']\",\n",
       "       \"['beauty_salon', 'shopping_mall', 'store', 'point_of_interest', 'establishment']\",\n",
       "       \"['department_store', 'shoe_store', 'clothing_store', 'furniture_store', 'home_goods_store', 'store', 'point_of_interest', 'establishment']\",\n",
       "       \"['convenience_store', 'gas_station', 'restaurant', 'food', 'store', 'point_of_interest', 'establishment']\",\n",
       "       \"['electronics_store', 'bar', 'night_club', 'store', 'point_of_interest', 'establishment']\",\n",
       "       \"['cafe', 'bar', 'night_club', 'food', 'store', 'point_of_interest', 'establishment']\",\n",
       "       \"['general_contractor', 'electrician', 'home_goods_store', 'store', 'point_of_interest', 'establishment']\",\n",
       "       \"['gas_station', 'food', 'store', 'point_of_interest', 'establishment']\",\n",
       "       \"['convenience_store', 'food', 'finance', 'store', 'point_of_interest', 'establishment']\",\n",
       "       \"['bank', 'atm', 'jewelry_store', 'finance', 'store', 'point_of_interest', 'establishment']\",\n",
       "       \"['general_contractor', 'electrician', 'finance', 'store', 'point_of_interest', 'establishment']\",\n",
       "       \"['electrician', 'plumber', 'general_contractor', 'home_goods_store', 'store', 'point_of_interest', 'establishment']\",\n",
       "       \"['cafe', 'bar', 'food', 'point_of_interest', 'establishment']\",\n",
       "       \"['painter', 'art_gallery', 'school', 'point_of_interest', 'establishment']\",\n",
       "       \"['spa', 'art_gallery', 'hair_care', 'beauty_salon', 'health', 'point_of_interest', 'establishment']\",\n",
       "       \"['gas_station', 'convenience_store', 'car_dealer', 'food', 'car_repair', 'store', 'point_of_interest', 'establishment']\",\n",
       "       \"['car_rental', 'car_repair', 'point_of_interest', 'establishment']\",\n",
       "       \"['grocery_or_supermarket', 'bakery', 'restaurant', 'food', 'store', 'point_of_interest', 'establishment']\",\n",
       "       \"['electronics_store', 'car_repair', 'furniture_store', 'home_goods_store', 'store', 'point_of_interest', 'establishment']\",\n",
       "       \"['florist', 'furniture_store', 'home_goods_store', 'store', 'point_of_interest', 'establishment']\",\n",
       "       \"['general_contractor', 'florist', 'store', 'point_of_interest', 'establishment']\",\n",
       "       \"['grocery_or_supermarket', 'atm', 'convenience_store', 'liquor_store', 'food', 'finance', 'store', 'point_of_interest', 'establishment']\",\n",
       "       \"['store', 'jewelry_store', 'clothing_store', 'point_of_interest', 'establishment']\",\n",
       "       \"['bank', 'finance', 'store', 'point_of_interest', 'establishment']\",\n",
       "       \"['bar', 'night_club', 'lodging', 'restaurant', 'food', 'point_of_interest', 'establishment']\",\n",
       "       \"['gym', 'health', 'restaurant', 'food', 'point_of_interest', 'establishment']\",\n",
       "       \"['department_store', 'bar', 'night_club', 'restaurant', 'food', 'store', 'point_of_interest', 'establishment']\",\n",
       "       \"['bakery', 'grocery_or_supermarket', 'health', 'restaurant', 'food', 'store', 'point_of_interest', 'establishment']\",\n",
       "       \"['night_club', 'bar', 'finance', 'point_of_interest', 'establishment']\",\n",
       "       \"['travel_agency', 'bar', 'night_club', 'point_of_interest', 'establishment']\",\n",
       "       \"['art_gallery', 'health', 'point_of_interest', 'establishment']\",\n",
       "       \"['travel_agency', 'museum', 'store', 'point_of_interest', 'establishment']\",\n",
       "       \"['dentist', 'hair_care', 'beauty_salon', 'spa', 'health', 'point_of_interest', 'establishment']\",\n",
       "       \"['accounting', 'electronics_store', 'finance', 'store', 'point_of_interest', 'establishment']\",\n",
       "       \"['general_contractor', 'roofing_contractor', 'home_goods_store', 'store', 'point_of_interest', 'establishment']\",\n",
       "       \"['store', 'accounting', 'finance', 'point_of_interest', 'establishment']\",\n",
       "       \"['department_store', 'shoe_store', 'jewelry_store', 'clothing_store', 'store', 'point_of_interest', 'establishment']\",\n",
       "       \"['restaurant', 'bar', 'food', 'store', 'point_of_interest', 'establishment']\",\n",
       "       \"['liquor_store', 'restaurant', 'food', 'store', 'point_of_interest', 'establishment']\",\n",
       "       \"['museum', 'art_gallery', 'point_of_interest', 'establishment']\",\n",
       "       \"['lodging', 'zoo', 'food', 'point_of_interest', 'establishment']\",\n",
       "       \"['real_estate_agency', 'local_government_office', 'lodging', 'point_of_interest', 'establishment']\",\n",
       "       \"['liquor_store', 'grocery_or_supermarket', 'health', 'food', 'store', 'point_of_interest', 'establishment']\",\n",
       "       \"['liquor_store', 'convenience_store', 'food', 'store', 'point_of_interest', 'establishment']\",\n",
       "       \"['liquor_store', 'convenience_store', 'grocery_or_supermarket', 'food', 'store', 'point_of_interest', 'establishment']\",\n",
       "       \"['pharmacy', 'insurance_agency', 'health', 'store', 'point_of_interest', 'establishment']\",\n",
       "       \"['travel_agency', 'courthouse', 'local_government_office', 'health', 'point_of_interest', 'establishment']\",\n",
       "       \"['cafe', 'art_gallery', 'meal_takeaway', 'restaurant', 'food', 'store', 'point_of_interest', 'establishment']\",\n",
       "       \"['grocery_or_supermarket', 'cafe', 'liquor_store', 'restaurant', 'food', 'store', 'point_of_interest', 'establishment']\",\n",
       "       \"['beauty_salon', 'shoe_store', 'hair_care', 'bar', 'spa', 'health', 'food', 'clothing_store', 'store', 'point_of_interest', 'establishment']\",\n",
       "       \"['art_gallery', 'movie_rental', 'point_of_interest', 'establishment']\",\n",
       "       \"['clothing_store', 'department_store', 'store', 'point_of_interest', 'establishment']\",\n",
       "       \"['university', 'stadium', 'point_of_interest', 'establishment']\",\n",
       "       \"['convenience_store', 'gas_station', 'food', 'store', 'point_of_interest', 'establishment']\",\n",
       "       \"['transit_station', 'light_rail_station', 'bus_station', 'train_station', 'point_of_interest', 'establishment']\",\n",
       "       \"['hardware_store', 'electronics_store', 'furniture_store', 'home_goods_store', 'store', 'point_of_interest', 'establishment']\",\n",
       "       \"['book_store', 'jewelry_store', 'clothing_store', 'furniture_store', 'home_goods_store', 'store', 'point_of_interest', 'establishment']\",\n",
       "       \"['hardware_store', 'food', 'store', 'point_of_interest', 'establishment']\",\n",
       "       \"['atm', 'convenience_store', 'food', 'finance', 'store', 'point_of_interest', 'establishment']\",\n",
       "       \"['cafe', 'meal_takeaway', 'health', 'restaurant', 'food', 'store', 'point_of_interest', 'establishment']\",\n",
       "       \"['art_gallery', 'meal_delivery', 'food', 'point_of_interest', 'establishment']\",\n",
       "       \"['dentist', 'veterinary_care', 'lodging', 'health', 'point_of_interest', 'establishment']\",\n",
       "       \"['electrician', 'electronics_store', 'store', 'point_of_interest', 'establishment']\",\n",
       "       \"['pet_store', 'natural_feature', 'store', 'point_of_interest', 'establishment']\",\n",
       "       \"['bicycle_store', 'travel_agency', 'store', 'point_of_interest', 'establishment']\",\n",
       "       \"['cafe', 'art_gallery', 'bakery', 'food', 'store', 'point_of_interest', 'establishment']\",\n",
       "       \"['bakery', 'cafe', 'bar', 'restaurant', 'food', 'store', 'point_of_interest', 'establishment']\",\n",
       "       \"['restaurant', 'bank', 'food', 'finance', 'point_of_interest', 'establishment']\",\n",
       "       \"['clothing_store', 'art_gallery', 'grocery_or_supermarket', 'food', 'store', 'point_of_interest', 'establishment']\",\n",
       "       \"['jewelry_store', 'grocery_or_supermarket', 'food', 'store', 'point_of_interest', 'establishment']\",\n",
       "       \"['furniture_store', 'clothing_store', 'home_goods_store', 'store', 'point_of_interest', 'establishment']\",\n",
       "       \"['real_estate_agency', 'furniture_store', 'home_goods_store', 'store', 'point_of_interest', 'establishment']\",\n",
       "       \"['place_of_worship', 'car_repair', 'store', 'point_of_interest', 'establishment']\",\n",
       "       \"['travel_agency', 'gym', 'health', 'point_of_interest', 'establishment']\",\n",
       "       \"['general_contractor', 'restaurant', 'food', 'point_of_interest', 'establishment']\",\n",
       "       \"['bar', 'art_gallery', 'point_of_interest', 'establishment']\",\n",
       "       \"['rv_park', 'travel_agency', 'real_estate_agency', 'lodging', 'point_of_interest', 'establishment']\",\n",
       "       \"['doctor', 'jewelry_store', 'health', 'store', 'point_of_interest', 'establishment']\",\n",
       "       \"['food', 'clothing_store', 'home_goods_store', 'store', 'point_of_interest', 'establishment']\",\n",
       "       \"['natural_feature', 'food', 'store', 'point_of_interest', 'establishment']\",\n",
       "       \"['department_store', 'home_goods_store', 'store', 'point_of_interest', 'establishment']\",\n",
       "       \"['beauty_salon', 'hair_care', 'jewelry_store', 'store', 'point_of_interest', 'establishment']\",\n",
       "       \"['jewelry_store', 'electronics_store', 'store', 'point_of_interest', 'establishment']\",\n",
       "       \"['electronics_store', 'food', 'clothing_store', 'home_goods_store', 'store', 'point_of_interest', 'establishment']\",\n",
       "       \"['bar', 'liquor_store', 'store', 'point_of_interest', 'establishment']\",\n",
       "       \"['art_gallery', 'bar', 'night_club', 'point_of_interest', 'establishment']\",\n",
       "       \"['cafe', 'laundry', 'food', 'point_of_interest', 'establishment']\",\n",
       "       \"['local_government_office', 'lodging', 'point_of_interest', 'establishment']\",\n",
       "       \"['night_club', 'lodging', 'point_of_interest', 'establishment']\",\n",
       "       \"['painter', 'car_repair', 'store', 'point_of_interest', 'establishment']\",\n",
       "       \"['real_estate_agency', 'car_dealer', 'finance', 'store', 'point_of_interest', 'establishment']\",\n",
       "       \"['movie_theater', 'store', 'point_of_interest', 'establishment']\",\n",
       "       \"['convenience_store', 'atm', 'liquor_store', 'grocery_or_supermarket', 'food', 'finance', 'store', 'point_of_interest', 'establishment']\",\n",
       "       \"['grocery_or_supermarket', 'atm', 'liquor_store', 'food', 'finance', 'store', 'point_of_interest', 'establishment']\",\n",
       "       \"['liquor_store', 'food', 'home_goods_store', 'store', 'point_of_interest', 'establishment']\",\n",
       "       \"['bakery', 'grocery_or_supermarket', 'food', 'store', 'point_of_interest', 'establishment']\",\n",
       "       \"['travel_agency', 'natural_feature', 'point_of_interest', 'establishment']\",\n",
       "       \"['home_goods_store', 'art_gallery', 'store', 'point_of_interest', 'establishment']\",\n",
       "       \"['art_gallery', 'food', 'point_of_interest', 'establishment']\",\n",
       "       \"['library', 'health', 'point_of_interest', 'establishment']\",\n",
       "       \"['museum', 'book_store', 'store', 'point_of_interest', 'establishment']\",\n",
       "       \"['hardware_store', 'park', 'store', 'point_of_interest', 'establishment']\",\n",
       "       \"['gym', 'hair_care', 'beauty_salon', 'spa', 'health', 'point_of_interest', 'establishment']\",\n",
       "       \"['lawyer', 'book_store', 'store', 'point_of_interest', 'establishment']\",\n",
       "       \"['pharmacy', 'dentist', 'health', 'store', 'point_of_interest', 'establishment']\",\n",
       "       \"['travel_agency', 'real_estate_agency', 'clothing_store', 'store', 'point_of_interest', 'establishment']\",\n",
       "       \"['store', 'liquor_store', 'point_of_interest', 'establishment']\",\n",
       "       \"['store', 'food', 'point_of_interest', 'establishment']\",\n",
       "       \"['liquor_store', 'grocery_or_supermarket', 'food', 'finance', 'store', 'point_of_interest', 'establishment']\",\n",
       "       \"['restaurant', 'food', 'car_repair', 'point_of_interest', 'establishment']\",\n",
       "       \"['meal_takeaway', 'meal_delivery', 'restaurant', 'food', 'point_of_interest', 'establishment']\",\n",
       "       \"['liquor_store', 'grocery_or_supermarket', 'restaurant', 'food', 'store', 'point_of_interest', 'establishment']\",\n",
       "       \"['restaurant', 'real_estate_agency', 'food', 'point_of_interest', 'establishment']\",\n",
       "       \"['spa', 'restaurant', 'food', 'point_of_interest', 'establishment']\",\n",
       "       \"['florist', 'bar', 'liquor_store', 'food', 'store', 'point_of_interest', 'establishment']\",\n",
       "       \"['library', 'book_store', 'store', 'point_of_interest', 'establishment']\",\n",
       "       \"['hair_care', 'doctor', 'spa', 'health', 'point_of_interest', 'establishment']\",\n",
       "       \"['school', 'health', 'store', 'point_of_interest', 'establishment']\",\n",
       "       \"['home_goods_store', 'laundry', 'store', 'point_of_interest', 'establishment']\",\n",
       "       \"['jewelry_store', 'clothing_store', 'home_goods_store', 'store', 'point_of_interest', 'establishment']\",\n",
       "       \"['clothing_store', 'art_gallery', 'store', 'point_of_interest', 'establishment']\",\n",
       "       \"['art_gallery', 'hair_care', 'health', 'point_of_interest', 'establishment']\",\n",
       "       \"['movie_theater', 'library', 'school', 'point_of_interest', 'establishment']\",\n",
       "       \"['travel_agency', 'park', 'night_club', 'point_of_interest', 'establishment']\",\n",
       "       \"['hair_care', 'food', 'clothing_store', 'home_goods_store', 'store', 'point_of_interest', 'establishment']\",\n",
       "       \"['store', 'shoe_store', 'clothing_store', 'point_of_interest', 'establishment']\",\n",
       "       \"['car_dealer', 'storage', 'car_repair', 'store', 'point_of_interest', 'establishment']\",\n",
       "       \"['finance', 'home_goods_store', 'store', 'point_of_interest', 'establishment']\",\n",
       "       \"['book_store', 'clothing_store', 'furniture_store', 'home_goods_store', 'store', 'point_of_interest', 'establishment']\",\n",
       "       \"['general_contractor', 'hardware_store', 'home_goods_store', 'store', 'point_of_interest', 'establishment']\",\n",
       "       \"['painter', 'store', 'point_of_interest', 'establishment']\",\n",
       "       \"['health', 'restaurant', 'food', 'point_of_interest', 'establishment']\",\n",
       "       \"['grocery_or_supermarket', 'convenience_store', 'cafe', 'liquor_store', 'food', 'store', 'point_of_interest', 'establishment']\",\n",
       "       \"['spa', 'natural_feature', 'health', 'point_of_interest', 'establishment']\",\n",
       "       \"['grocery_or_supermarket', 'convenience_store', 'liquor_store', 'food', 'store', 'point_of_interest', 'establishment']\",\n",
       "       \"['florist', 'book_store', 'store', 'point_of_interest', 'establishment']\",\n",
       "       \"['jewelry_store', 'food', 'clothing_store', 'store', 'point_of_interest', 'establishment']\",\n",
       "       \"['health', 'restaurant', 'food', 'store', 'point_of_interest', 'establishment']\",\n",
       "       \"['spa', 'hair_care', 'beauty_salon', 'lodging', 'health', 'point_of_interest', 'establishment']\",\n",
       "       \"['dentist', 'spa', 'health', 'point_of_interest', 'establishment']\",\n",
       "       \"['beauty_salon', 'spa', 'health', 'clothing_store', 'store', 'point_of_interest', 'establishment']\",\n",
       "       \"['funeral_home', 'store', 'point_of_interest', 'establishment']\",\n",
       "       \"['bakery', 'pet_store', 'food', 'store', 'point_of_interest', 'establishment']\",\n",
       "       \"['store', 'grocery_or_supermarket', 'food', 'point_of_interest', 'establishment']\",\n",
       "       \"['cafe', 'art_gallery', 'food', 'point_of_interest', 'establishment']\",\n",
       "       \"['meal_takeaway', 'bar', 'night_club', 'restaurant', 'food', 'store', 'point_of_interest', 'establishment']\",\n",
       "       \"['convenience_store', 'liquor_store', 'restaurant', 'food', 'store', 'point_of_interest', 'establishment']\",\n",
       "       \"['funeral_home', 'pet_store', 'store', 'point_of_interest', 'establishment']\",\n",
       "       \"['shopping_mall', 'pharmacy', 'veterinary_care', 'grocery_or_supermarket', 'health', 'food', 'store', 'point_of_interest', 'establishment']\",\n",
       "       \"['grocery_or_supermarket', 'florist', 'food', 'store', 'point_of_interest', 'establishment']\",\n",
       "       \"['beauty_salon', 'doctor', 'spa', 'lodging', 'health', 'point_of_interest', 'establishment']\",\n",
       "       \"['department_store', 'shoe_store', 'jewelry_store', 'clothing_store', 'home_goods_store', 'store', 'point_of_interest', 'establishment']\",\n",
       "       \"['car_dealer', 'car_rental', 'car_repair', 'store', 'point_of_interest', 'establishment']\",\n",
       "       \"['library', 'university', 'point_of_interest', 'establishment']\",\n",
       "       \"['pharmacy', 'veterinary_care', 'health', 'store', 'point_of_interest', 'establishment']\",\n",
       "       \"['grocery_or_supermarket', 'convenience_store', 'meal_takeaway', 'liquor_store', 'restaurant', 'food', 'store', 'point_of_interest', 'establishment']\",\n",
       "       \"['restaurant', 'jewelry_store', 'food', 'furniture_store', 'home_goods_store', 'store', 'point_of_interest', 'establishment']\",\n",
       "       \"['library', 'school', 'museum', 'store', 'point_of_interest', 'establishment']\",\n",
       "       \"['real_estate_agency', 'travel_agency', 'point_of_interest', 'establishment']\",\n",
       "       \"['cafe', 'book_store', 'food', 'store', 'point_of_interest', 'establishment']\",\n",
       "       \"['laundry', 'cafe', 'food', 'point_of_interest', 'establishment']\",\n",
       "       \"['clothing_store', 'hair_care', 'store', 'point_of_interest', 'establishment']\",\n",
       "       \"['grocery_or_supermarket', 'food', 'clothing_store', 'store', 'point_of_interest', 'establishment']\",\n",
       "       \"['beauty_salon', 'health', 'food', 'store', 'point_of_interest', 'establishment']\",\n",
       "       \"['park', 'library', 'point_of_interest', 'establishment']\",\n",
       "       \"['shopping_mall', 'premise', 'point_of_interest', 'establishment']\",\n",
       "       \"['grocery_or_supermarket', 'convenience_store', 'cafe', 'food', 'store', 'point_of_interest', 'establishment']\",\n",
       "       \"['cafe', 'hair_care', 'food', 'store', 'point_of_interest', 'establishment']\",\n",
       "       \"['gas_station', 'atm', 'car_wash', 'convenience_store', 'food', 'finance', 'store', 'point_of_interest', 'establishment']\",\n",
       "       \"['travel_agency', 'restaurant', 'food', 'point_of_interest', 'establishment']\",\n",
       "       \"['university', 'premise', 'park', 'point_of_interest', 'establishment']\",\n",
       "       \"['restaurant', 'shopping_mall', 'food', 'point_of_interest', 'establishment']\",\n",
       "       \"['art_gallery', 'school', 'store', 'point_of_interest', 'establishment']\",\n",
       "       \"['cafe', 'food', 'furniture_store', 'home_goods_store', 'store', 'point_of_interest', 'establishment']\",\n",
       "       \"['park', 'food', 'store', 'point_of_interest', 'establishment']\",\n",
       "       \"['grocery_or_supermarket', 'food', 'finance', 'store', 'point_of_interest', 'establishment']\",\n",
       "       \"['car_dealer', 'food', 'car_repair', 'store', 'point_of_interest', 'establishment']\",\n",
       "       \"['clothing_store', 'hardware_store', 'home_goods_store', 'store', 'point_of_interest', 'establishment']\",\n",
       "       \"['cafe', 'bakery', 'florist', 'restaurant', 'food', 'store', 'point_of_interest', 'establishment']\",\n",
       "       \"['bar', 'restaurant', 'food', 'clothing_store', 'store', 'point_of_interest', 'establishment']\",\n",
       "       \"['art_gallery', 'finance', 'point_of_interest', 'establishment']\",\n",
       "       \"['art_gallery', 'shopping_mall', 'museum', 'home_goods_store', 'store', 'point_of_interest', 'establishment']\",\n",
       "       \"['art_gallery', 'local_government_office', 'point_of_interest', 'establishment']\",\n",
       "       \"['art_gallery', 'travel_agency', 'point_of_interest', 'establishment']\",\n",
       "       \"['spa', 'beauty_salon', 'health', 'clothing_store', 'store', 'point_of_interest', 'establishment']\",\n",
       "       \"['convenience_store', 'gas_station', 'food', 'car_repair', 'store', 'point_of_interest', 'establishment']\",\n",
       "       \"['movie_rental', 'electronics_store', 'home_goods_store', 'store', 'point_of_interest', 'establishment']\",\n",
       "       \"['travel_agency', 'car_dealer', 'store', 'point_of_interest', 'establishment']\",\n",
       "       \"['meal_delivery', 'health', 'restaurant', 'food', 'store', 'point_of_interest', 'establishment']\",\n",
       "       \"['meal_takeaway', 'lodging', 'restaurant', 'food', 'point_of_interest', 'establishment']\",\n",
       "       \"['art_gallery', 'jewelry_store', 'finance', 'store', 'point_of_interest', 'establishment']\",\n",
       "       \"['library', 'travel_agency', 'point_of_interest', 'establishment']\",\n",
       "       \"['clothing_store', 'food', 'home_goods_store', 'store', 'point_of_interest', 'establishment']\",\n",
       "       \"['florist', 'liquor_store', 'food', 'store', 'point_of_interest', 'establishment']\",\n",
       "       \"['physiotherapist', 'health', 'store', 'point_of_interest', 'establishment']\",\n",
       "       \"['locksmith', 'storage', 'car_dealer', 'car_rental', 'car_repair', 'store', 'point_of_interest', 'establishment']\",\n",
       "       \"['travel_agency', 'insurance_agency', 'point_of_interest', 'establishment']\",\n",
       "       \"['library', 'church', 'place_of_worship', 'point_of_interest', 'establishment']\",\n",
       "       \"['book_store', 'church', 'place_of_worship', 'store', 'point_of_interest', 'establishment']\",\n",
       "       \"['cafe', 'liquor_store', 'grocery_or_supermarket', 'restaurant', 'food', 'store', 'point_of_interest', 'establishment']\",\n",
       "       \"['bar', 'bakery', 'cafe', 'restaurant', 'food', 'store', 'point_of_interest', 'establishment']\",\n",
       "       \"['meal_takeaway', 'grocery_or_supermarket', 'restaurant', 'food', 'store', 'point_of_interest', 'establishment']\",\n",
       "       \"['art_gallery', 'food', 'store', 'point_of_interest', 'establishment']\",\n",
       "       \"['furniture_store', 'art_gallery', 'general_contractor', 'home_goods_store', 'store', 'point_of_interest', 'establishment']\",\n",
       "       \"['jewelry_store', 'art_gallery', 'home_goods_store', 'store', 'point_of_interest', 'establishment']\",\n",
       "       \"['cafe', 'shopping_mall', 'health', 'food', 'clothing_store', 'store', 'point_of_interest', 'establishment']\",\n",
       "       \"['lodging', 'neighborhood', 'political', 'point_of_interest', 'establishment']\",\n",
       "       \"['church', 'book_store', 'place_of_worship', 'store', 'point_of_interest', 'establishment']\",\n",
       "       \"['real_estate_agency', 'home_goods_store', 'store', 'point_of_interest', 'establishment']\",\n",
       "       \"['bakery', 'food', 'home_goods_store', 'store', 'point_of_interest', 'establishment']\",\n",
       "       \"['pet_store', 'food', 'store', 'point_of_interest', 'establishment']\",\n",
       "       \"['clothing_store', 'bakery', 'shopping_mall', 'food', 'store', 'point_of_interest', 'establishment']\",\n",
       "       \"['finance', 'travel_agency', 'real_estate_agency', 'store', 'point_of_interest', 'establishment']\",\n",
       "       \"['general_contractor', 'plumber', 'home_goods_store', 'store', 'point_of_interest', 'establishment']\",\n",
       "       \"['cafe', 'liquor_store', 'grocery_or_supermarket', 'food', 'store', 'point_of_interest', 'establishment']\",\n",
       "       \"['storage', 'car_dealer', 'store', 'point_of_interest', 'establishment']\",\n",
       "       \"['storage', 'premise', 'store', 'point_of_interest', 'establishment']\",\n",
       "       \"['meal_delivery', 'bar', 'restaurant', 'food', 'store', 'point_of_interest', 'establishment']\",\n",
       "       \"['cafe', 'beauty_salon', 'health', 'restaurant', 'food', 'store', 'point_of_interest', 'establishment']\",\n",
       "       \"['store', 'furniture_store', 'home_goods_store', 'point_of_interest', 'establishment']\",\n",
       "       \"['pharmacy', 'cafe', 'health', 'food', 'store', 'point_of_interest', 'establishment']\",\n",
       "       \"['finance', 'lawyer', 'store', 'point_of_interest', 'establishment']\",\n",
       "       \"['pharmacy', 'department_store', 'health', 'store', 'point_of_interest', 'establishment']\",\n",
       "       \"['department_store', 'grocery_or_supermarket', 'food', 'store', 'point_of_interest', 'establishment']\",\n",
       "       \"['art_gallery', 'general_contractor', 'museum', 'point_of_interest', 'establishment']\",\n",
       "       \"['atm', 'convenience_store', 'grocery_or_supermarket', 'food', 'finance', 'store', 'point_of_interest', 'establishment']\",\n",
       "       \"['bar', 'grocery_or_supermarket', 'restaurant', 'food', 'store', 'point_of_interest', 'establishment']\",\n",
       "       \"['art_gallery', 'physiotherapist', 'health', 'point_of_interest', 'establishment']\",\n",
       "       \"['cafe', 'book_store', 'restaurant', 'food', 'clothing_store', 'store', 'point_of_interest', 'establishment']\",\n",
       "       \"['convenience_store', 'gas_station', 'atm', 'restaurant', 'food', 'finance', 'car_repair', 'store', 'point_of_interest', 'establishment']\",\n",
       "       \"['restaurant', 'cafe', 'meal_takeaway', 'bar', 'food', 'point_of_interest', 'establishment']\",\n",
       "       \"['electronics_store', 'pharmacy', 'health', 'store', 'point_of_interest', 'establishment']\",\n",
       "       \"['food', 'clothing_store', 'store', 'point_of_interest', 'establishment']\",\n",
       "       \"['department_store', 'shoe_store', 'jewelry_store', 'electronics_store', 'clothing_store', 'furniture_store', 'home_goods_store', 'store', 'point_of_interest', 'establishment']\",\n",
       "       \"['travel_agency', 'park', 'point_of_interest', 'establishment']\",\n",
       "       \"['bar', 'church', 'place_of_worship', 'point_of_interest', 'establishment']\",\n",
       "       \"['home_goods_store', 'clothing_store', 'furniture_store', 'store', 'point_of_interest', 'establishment']\",\n",
       "       \"['hair_care', 'health', 'clothing_store', 'store', 'point_of_interest', 'establishment']\",\n",
       "       \"['funeral_home', 'cemetery', 'florist', 'store', 'point_of_interest', 'establishment']\",\n",
       "       \"['home_goods_store', 'jewelry_store', 'store', 'point_of_interest', 'establishment']\",\n",
       "       \"['meal_delivery', 'convenience_store', 'restaurant', 'food', 'store', 'point_of_interest', 'establishment']\",\n",
       "       \"['cafe', 'convenience_store', 'meal_takeaway', 'restaurant', 'food', 'store', 'point_of_interest', 'establishment']\",\n",
       "       \"['book_store', 'electronics_store', 'home_goods_store', 'store', 'point_of_interest', 'establishment']\",\n",
       "       \"['cafe', 'meal_takeaway', 'liquor_store', 'restaurant', 'food', 'store', 'point_of_interest', 'establishment']\",\n",
       "       \"['movie_theater', 'bar', 'night_club', 'restaurant', 'food', 'point_of_interest', 'establishment']\",\n",
       "       \"['cafe', 'bar', 'lodging', 'restaurant', 'food', 'store', 'point_of_interest', 'establishment']\",\n",
       "       \"['cafe', 'bar', 'lodging', 'restaurant', 'food', 'point_of_interest', 'establishment']\",\n",
       "       \"['gym', 'health', 'restaurant', 'food', 'clothing_store', 'store', 'point_of_interest', 'establishment']\",\n",
       "       \"['cafe', 'bar', 'liquor_store', 'food', 'store', 'point_of_interest', 'establishment']\",\n",
       "       \"['bar', 'food', 'store', 'point_of_interest', 'establishment']\",\n",
       "       \"['grocery_or_supermarket', 'cafe', 'bar', 'food', 'store', 'point_of_interest', 'establishment']\",\n",
       "       \"['hair_care', 'beauty_salon', 'bar', 'spa', 'health', 'food', 'point_of_interest', 'establishment']\",\n",
       "       \"['florist', 'art_gallery', 'store', 'point_of_interest', 'establishment']\",\n",
       "       \"['art_gallery', 'finance', 'home_goods_store', 'store', 'point_of_interest', 'establishment']\",\n",
       "       \"['electronics_store', 'electrician', 'store', 'point_of_interest', 'establishment']\",\n",
       "       \"['jewelry_store', 'finance', 'clothing_store', 'store', 'point_of_interest', 'establishment']\",\n",
       "       \"['clothing_store', 'shoe_store', 'book_store', 'store', 'point_of_interest', 'establishment']\",\n",
       "       \"['convenience_store', 'atm', 'liquor_store', 'food', 'finance', 'store', 'point_of_interest', 'establishment']\",\n",
       "       \"['library', 'museum', 'store', 'point_of_interest', 'establishment']\",\n",
       "       \"['book_store', 'museum', 'store', 'point_of_interest', 'establishment']\",\n",
       "       \"['book_store', 'food', 'store', 'point_of_interest', 'establishment']\",\n",
       "       \"['natural_feature', 'clothing_store', 'store', 'point_of_interest', 'establishment']\",\n",
       "       \"['jewelry_store', 'furniture_store', 'home_goods_store', 'store', 'point_of_interest', 'establishment']\",\n",
       "       \"['home_goods_store', 'department_store', 'clothing_store', 'furniture_store', 'store', 'point_of_interest', 'establishment']\",\n",
       "       \"['jewelry_store', 'clothing_store', 'furniture_store', 'home_goods_store', 'store', 'point_of_interest', 'establishment']\",\n",
       "       \"['home_goods_store', 'department_store', 'furniture_store', 'store', 'point_of_interest', 'establishment']\",\n",
       "       \"['gym', 'hair_care', 'beauty_salon', 'spa', 'health', 'store', 'point_of_interest', 'establishment']\",\n",
       "       \"['shoe_store', 'food', 'store', 'point_of_interest', 'establishment']\",\n",
       "       \"['travel_agency', 'church', 'place_of_worship', 'point_of_interest', 'establishment']\",\n",
       "       \"['restaurant', 'meal_delivery', 'cafe', 'food', 'point_of_interest', 'establishment']\",\n",
       "       \"['bakery', 'cafe', 'meal_takeaway', 'bar', 'restaurant', 'food', 'store', 'point_of_interest', 'establishment']\",\n",
       "       \"['movie_rental', 'book_store', 'clothing_store', 'store', 'point_of_interest', 'establishment']\",\n",
       "       \"['shoe_store', 'car_repair', 'home_goods_store', 'store', 'point_of_interest', 'establishment']\",\n",
       "       \"['florist', 'clothing_store', 'store', 'point_of_interest', 'establishment']\",\n",
       "       \"['grocery_or_supermarket', 'bakery', 'florist', 'food', 'store', 'point_of_interest', 'establishment']\",\n",
       "       \"['jewelry_store', 'health', 'food', 'store', 'point_of_interest', 'establishment']\",\n",
       "       \"['gas_station', 'car_repair', 'store', 'point_of_interest', 'establishment']\",\n",
       "       \"['premise', 'store', 'point_of_interest', 'establishment']\",\n",
       "       \"['electronics_store', 'grocery_or_supermarket', 'food', 'store', 'point_of_interest', 'establishment']\",\n",
       "       \"['car_rental', 'store', 'point_of_interest', 'establishment']\",\n",
       "       \"['real_estate_agency', 'car_dealer', 'car_repair', 'store', 'point_of_interest', 'establishment']\",\n",
       "       \"['pet_store', 'grocery_or_supermarket', 'health', 'food', 'store', 'point_of_interest', 'establishment']\",\n",
       "       \"['car_dealer', 'health', 'store', 'point_of_interest', 'establishment']\",\n",
       "       \"['general_contractor', 'premise', 'store', 'point_of_interest', 'establishment']\",\n",
       "       \"['pet_store', 'clothing_store', 'store', 'point_of_interest', 'establishment']\",\n",
       "       \"['department_store', 'furniture_store', 'home_goods_store', 'store', 'point_of_interest', 'establishment']\",\n",
       "       \"['cafe', 'bar', 'night_club', 'food', 'point_of_interest', 'establishment']\",\n",
       "       \"['convenience_store', 'gas_station', 'atm', 'food', 'finance', 'store', 'point_of_interest', 'establishment']\"],\n",
       "      dtype=object)"
      ]
     },
     "execution_count": 74,
     "metadata": {},
     "output_type": "execute_result"
    }
   ],
   "source": [
    "venues.types.unique()"
   ]
  },
  {
   "cell_type": "code",
   "execution_count": 218,
   "metadata": {
    "collapsed": false
   },
   "outputs": [
    {
     "name": "stdout",
     "output_type": "stream",
     "text": [
      "(5849, 16)\n",
      "city\n",
      "los angeles      1297\n",
      "oakland           776\n",
      "portland          473\n",
      "san diego         258\n",
      "san francisco    1984\n",
      "santa cruz         28\n",
      "seattle          1033\n",
      "Name: count, dtype: int64\n",
      "(1718, 16)\n",
      "city\n",
      "los angeles      684\n",
      "oakland          135\n",
      "portland          12\n",
      "san diego        162\n",
      "san francisco    480\n",
      "santa cruz         9\n",
      "seattle          236\n",
      "Name: count, dtype: int64\n"
     ]
    }
   ],
   "source": [
    "venues_cafe = venues[venues['types'].str.contains(\"cafe\")]\n",
    "print(venues_cafe.shape)\n",
    "venues_cafe_count = venues_cafe.groupby('city').types.agg(['count'])['count']\n",
    "print(venues_cafe_count)\n",
    "\n",
    "venues_spa = venues[venues['types'].str.contains(\"spa\")]\n",
    "print(venues_spa.shape)\n",
    "venues_spa_count = venues_spa.groupby('city').types.agg(['count'])['count']\n",
    "print(venues_spa_count)"
   ]
  },
  {
   "cell_type": "code",
   "execution_count": 219,
   "metadata": {
    "collapsed": false
   },
   "outputs": [
    {
     "name": "stdout",
     "output_type": "stream",
     "text": [
      "Number of cafes vs number of listings\n",
      "[[1.      0.55485]\n",
      " [0.55485 1.     ]]\n",
      "Number of spas vs number of listings\n",
      "[[1.         0.91935881]\n",
      " [0.91935881 1.        ]]\n"
     ]
    }
   ],
   "source": [
    "print(\"Number of cafes vs number of listings\")\n",
    "print(numpy.corrcoef(venues_cafe_count, listings_count))\n",
    "print(\"Number of spas vs number of listings\")\n",
    "print(numpy.corrcoef(venues_spa_count, listings_count))"
   ]
  },
  {
   "cell_type": "markdown",
   "metadata": {},
   "source": [
    "# Median and Mean Household Income of Demographic vs. Listings of Airbnbs"
   ]
  },
  {
   "cell_type": "code",
   "execution_count": 187,
   "metadata": {
    "collapsed": false
   },
   "outputs": [
    {
     "data": {
      "text/html": [
       "<div>\n",
       "<table border=\"1\" class=\"dataframe\">\n",
       "  <thead>\n",
       "    <tr style=\"text-align: right;\">\n",
       "      <th></th>\n",
       "      <th>city</th>\n",
       "      <th>state</th>\n",
       "      <th>population</th>\n",
       "      <th>5_years_or_less</th>\n",
       "      <th>5-9_years</th>\n",
       "      <th>10-14_years</th>\n",
       "      <th>15-19_years</th>\n",
       "      <th>20-24_years</th>\n",
       "      <th>25-34_years</th>\n",
       "      <th>35-44_years</th>\n",
       "      <th>45-54_years</th>\n",
       "      <th>55-59_years</th>\n",
       "      <th>60-64_years</th>\n",
       "      <th>65-74_years</th>\n",
       "      <th>75-84_years</th>\n",
       "      <th>85_years_or_more</th>\n",
       "      <th>households</th>\n",
       "      <th>$9,999_or_less</th>\n",
       "      <th>$10,000-$14,999</th>\n",
       "      <th>$15,000-$24,999</th>\n",
       "      <th>$25,000-$34,999</th>\n",
       "      <th>$35,000-$49,999</th>\n",
       "      <th>$50,000-$64,999</th>\n",
       "      <th>$65,000-$74,999</th>\n",
       "      <th>$75,000-$99,999</th>\n",
       "      <th>$100,000_or_more</th>\n",
       "      <th>median_household_income</th>\n",
       "      <th>mean_household_income</th>\n",
       "    </tr>\n",
       "  </thead>\n",
       "  <tbody>\n",
       "    <tr>\n",
       "      <th>1887</th>\n",
       "      <td>Los Angeles--Long Beach--Anaheim</td>\n",
       "      <td>CA</td>\n",
       "      <td>12460016</td>\n",
       "      <td>787946</td>\n",
       "      <td>773404</td>\n",
       "      <td>795363</td>\n",
       "      <td>862672</td>\n",
       "      <td>974812</td>\n",
       "      <td>1916515</td>\n",
       "      <td>1757165</td>\n",
       "      <td>1723945</td>\n",
       "      <td>755975</td>\n",
       "      <td>625510</td>\n",
       "      <td>821184</td>\n",
       "      <td>455767</td>\n",
       "      <td>209758</td>\n",
       "      <td>6305104</td>\n",
       "      <td>2.1</td>\n",
       "      <td>5.1</td>\n",
       "      <td>17.2</td>\n",
       "      <td>15.2</td>\n",
       "      <td>17.3</td>\n",
       "      <td>12.9</td>\n",
       "      <td>5.8</td>\n",
       "      <td>10.1</td>\n",
       "      <td>14.3</td>\n",
       "      <td>29651</td>\n",
       "      <td>29651</td>\n",
       "    </tr>\n",
       "    <tr>\n",
       "      <th>2608</th>\n",
       "      <td>Portland</td>\n",
       "      <td>OR</td>\n",
       "      <td>1935090</td>\n",
       "      <td>121077</td>\n",
       "      <td>126627</td>\n",
       "      <td>119264</td>\n",
       "      <td>115305</td>\n",
       "      <td>122503</td>\n",
       "      <td>307110</td>\n",
       "      <td>291742</td>\n",
       "      <td>261311</td>\n",
       "      <td>122603</td>\n",
       "      <td>112913</td>\n",
       "      <td>136512</td>\n",
       "      <td>64768</td>\n",
       "      <td>33355</td>\n",
       "      <td>1045817</td>\n",
       "      <td>1.6</td>\n",
       "      <td>2.8</td>\n",
       "      <td>11.6</td>\n",
       "      <td>15.5</td>\n",
       "      <td>20.3</td>\n",
       "      <td>15.3</td>\n",
       "      <td>7.1</td>\n",
       "      <td>11.7</td>\n",
       "      <td>14.1</td>\n",
       "      <td>32086</td>\n",
       "      <td>32086</td>\n",
       "    </tr>\n",
       "    <tr>\n",
       "      <th>2861</th>\n",
       "      <td>San Diego</td>\n",
       "      <td>CA</td>\n",
       "      <td>3080269</td>\n",
       "      <td>202149</td>\n",
       "      <td>191668</td>\n",
       "      <td>185592</td>\n",
       "      <td>203858</td>\n",
       "      <td>260317</td>\n",
       "      <td>496204</td>\n",
       "      <td>411737</td>\n",
       "      <td>408521</td>\n",
       "      <td>183206</td>\n",
       "      <td>159304</td>\n",
       "      <td>205891</td>\n",
       "      <td>115308</td>\n",
       "      <td>56514</td>\n",
       "      <td>1574338</td>\n",
       "      <td>1.8</td>\n",
       "      <td>3.4</td>\n",
       "      <td>13.2</td>\n",
       "      <td>15.1</td>\n",
       "      <td>18.4</td>\n",
       "      <td>13.8</td>\n",
       "      <td>6.8</td>\n",
       "      <td>11.6</td>\n",
       "      <td>15.8</td>\n",
       "      <td>32814</td>\n",
       "      <td>32814</td>\n",
       "    </tr>\n",
       "    <tr>\n",
       "      <th>2869</th>\n",
       "      <td>San Francisco--Oakland</td>\n",
       "      <td>CA</td>\n",
       "      <td>3421770</td>\n",
       "      <td>195228</td>\n",
       "      <td>187551</td>\n",
       "      <td>177155</td>\n",
       "      <td>179840</td>\n",
       "      <td>221435</td>\n",
       "      <td>572386</td>\n",
       "      <td>512192</td>\n",
       "      <td>483526</td>\n",
       "      <td>223921</td>\n",
       "      <td>203702</td>\n",
       "      <td>256031</td>\n",
       "      <td>139118</td>\n",
       "      <td>69685</td>\n",
       "      <td>1883244</td>\n",
       "      <td>1.4</td>\n",
       "      <td>2.5</td>\n",
       "      <td>8.9</td>\n",
       "      <td>10.9</td>\n",
       "      <td>16.0</td>\n",
       "      <td>14.2</td>\n",
       "      <td>6.9</td>\n",
       "      <td>12.9</td>\n",
       "      <td>26.2</td>\n",
       "      <td>41432</td>\n",
       "      <td>41432</td>\n",
       "    </tr>\n",
       "    <tr>\n",
       "      <th>2881</th>\n",
       "      <td>Santa Cruz</td>\n",
       "      <td>CA</td>\n",
       "      <td>168236</td>\n",
       "      <td>7411</td>\n",
       "      <td>7938</td>\n",
       "      <td>8493</td>\n",
       "      <td>15249</td>\n",
       "      <td>19876</td>\n",
       "      <td>19933</td>\n",
       "      <td>19742</td>\n",
       "      <td>22771</td>\n",
       "      <td>13188</td>\n",
       "      <td>11407</td>\n",
       "      <td>13254</td>\n",
       "      <td>5976</td>\n",
       "      <td>2998</td>\n",
       "      <td>94335</td>\n",
       "      <td>1.6</td>\n",
       "      <td>3.6</td>\n",
       "      <td>8.3</td>\n",
       "      <td>12.2</td>\n",
       "      <td>15.5</td>\n",
       "      <td>13.9</td>\n",
       "      <td>7.5</td>\n",
       "      <td>14.0</td>\n",
       "      <td>23.3</td>\n",
       "      <td>31036</td>\n",
       "      <td>31036</td>\n",
       "    </tr>\n",
       "    <tr>\n",
       "      <th>2915</th>\n",
       "      <td>Seattle</td>\n",
       "      <td>WA</td>\n",
       "      <td>3223799</td>\n",
       "      <td>207129</td>\n",
       "      <td>197733</td>\n",
       "      <td>191819</td>\n",
       "      <td>188401</td>\n",
       "      <td>223738</td>\n",
       "      <td>525583</td>\n",
       "      <td>466363</td>\n",
       "      <td>453306</td>\n",
       "      <td>209168</td>\n",
       "      <td>179240</td>\n",
       "      <td>218587</td>\n",
       "      <td>108257</td>\n",
       "      <td>54475</td>\n",
       "      <td>1785505</td>\n",
       "      <td>1.3</td>\n",
       "      <td>2.0</td>\n",
       "      <td>9.3</td>\n",
       "      <td>12.9</td>\n",
       "      <td>18.5</td>\n",
       "      <td>15.4</td>\n",
       "      <td>7.7</td>\n",
       "      <td>13.2</td>\n",
       "      <td>19.8</td>\n",
       "      <td>38662</td>\n",
       "      <td>38662</td>\n",
       "    </tr>\n",
       "  </tbody>\n",
       "</table>\n",
       "</div>"
      ],
      "text/plain": [
       "                                  city state  population  5_years_or_less  \\\n",
       "1887  Los Angeles--Long Beach--Anaheim    CA    12460016           787946   \n",
       "2608                          Portland    OR     1935090           121077   \n",
       "2861                         San Diego    CA     3080269           202149   \n",
       "2869            San Francisco--Oakland    CA     3421770           195228   \n",
       "2881                        Santa Cruz    CA      168236             7411   \n",
       "2915                           Seattle    WA     3223799           207129   \n",
       "\n",
       "      5-9_years  10-14_years  15-19_years  20-24_years  25-34_years  \\\n",
       "1887     773404       795363       862672       974812      1916515   \n",
       "2608     126627       119264       115305       122503       307110   \n",
       "2861     191668       185592       203858       260317       496204   \n",
       "2869     187551       177155       179840       221435       572386   \n",
       "2881       7938         8493        15249        19876        19933   \n",
       "2915     197733       191819       188401       223738       525583   \n",
       "\n",
       "      35-44_years  45-54_years  55-59_years  60-64_years  65-74_years  \\\n",
       "1887      1757165      1723945       755975       625510       821184   \n",
       "2608       291742       261311       122603       112913       136512   \n",
       "2861       411737       408521       183206       159304       205891   \n",
       "2869       512192       483526       223921       203702       256031   \n",
       "2881        19742        22771        13188        11407        13254   \n",
       "2915       466363       453306       209168       179240       218587   \n",
       "\n",
       "      75-84_years  85_years_or_more  households  $9,999_or_less  \\\n",
       "1887       455767            209758     6305104             2.1   \n",
       "2608        64768             33355     1045817             1.6   \n",
       "2861       115308             56514     1574338             1.8   \n",
       "2869       139118             69685     1883244             1.4   \n",
       "2881         5976              2998       94335             1.6   \n",
       "2915       108257             54475     1785505             1.3   \n",
       "\n",
       "      $10,000-$14,999  $15,000-$24,999  $25,000-$34,999  $35,000-$49,999  \\\n",
       "1887              5.1             17.2             15.2             17.3   \n",
       "2608              2.8             11.6             15.5             20.3   \n",
       "2861              3.4             13.2             15.1             18.4   \n",
       "2869              2.5              8.9             10.9             16.0   \n",
       "2881              3.6              8.3             12.2             15.5   \n",
       "2915              2.0              9.3             12.9             18.5   \n",
       "\n",
       "      $50,000-$64,999  $65,000-$74,999  $75,000-$99,999  $100,000_or_more  \\\n",
       "1887             12.9              5.8             10.1              14.3   \n",
       "2608             15.3              7.1             11.7              14.1   \n",
       "2861             13.8              6.8             11.6              15.8   \n",
       "2869             14.2              6.9             12.9              26.2   \n",
       "2881             13.9              7.5             14.0              23.3   \n",
       "2915             15.4              7.7             13.2              19.8   \n",
       "\n",
       "      median_household_income  mean_household_income  \n",
       "1887                    29651                  29651  \n",
       "2608                    32086                  32086  \n",
       "2861                    32814                  32814  \n",
       "2869                    41432                  41432  \n",
       "2881                    31036                  31036  \n",
       "2915                    38662                  38662  "
      ]
     },
     "execution_count": 187,
     "metadata": {},
     "output_type": "execute_result"
    }
   ],
   "source": [
    "demographic.head(7)"
   ]
  },
  {
   "cell_type": "code",
   "execution_count": 247,
   "metadata": {
    "collapsed": false
   },
   "outputs": [
    {
     "data": {
      "text/plain": [
       "[29651, 32086, 32814, 41432, 31036, 38662]"
      ]
     },
     "execution_count": 247,
     "metadata": {},
     "output_type": "execute_result"
    }
   ],
   "source": [
    "list(demographic['mean_household_income'])"
   ]
  },
  {
   "cell_type": "code",
   "execution_count": 262,
   "metadata": {
    "collapsed": false
   },
   "outputs": [],
   "source": [
    "demo_listings_count = listings.groupby('city').price.agg(['count'])['count']"
   ]
  },
  {
   "cell_type": "code",
   "execution_count": 263,
   "metadata": {
    "collapsed": false
   },
   "outputs": [],
   "source": [
    "demo_listings_count['san francisco'] = listings_count['oakland'] + listings_count['san francisco']"
   ]
  },
  {
   "cell_type": "code",
   "execution_count": 264,
   "metadata": {
    "collapsed": false
   },
   "outputs": [
    {
     "data": {
      "text/plain": [
       "city\n",
       "los angeles      19515\n",
       "oakland           1611\n",
       "portland          3541\n",
       "san diego         6207\n",
       "san francisco    10295\n",
       "santa cruz         451\n",
       "seattle           3814\n",
       "Name: count, dtype: int64"
      ]
     },
     "execution_count": 264,
     "metadata": {},
     "output_type": "execute_result"
    }
   ],
   "source": [
    "demo_listings_count"
   ]
  },
  {
   "cell_type": "code",
   "execution_count": 265,
   "metadata": {
    "collapsed": true
   },
   "outputs": [],
   "source": [
    "demo_listings_count = list(demo_listings_count)"
   ]
  },
  {
   "cell_type": "code",
   "execution_count": 266,
   "metadata": {
    "collapsed": false
   },
   "outputs": [
    {
     "data": {
      "text/plain": [
       "[19515, 1611, 3541, 6207, 10295, 451, 3814]"
      ]
     },
     "execution_count": 266,
     "metadata": {},
     "output_type": "execute_result"
    }
   ],
   "source": [
    "demo_listings_count"
   ]
  },
  {
   "cell_type": "code",
   "execution_count": 267,
   "metadata": {
    "collapsed": false
   },
   "outputs": [
    {
     "name": "stdout",
     "output_type": "stream",
     "text": [
      "[19515, 3541, 6207, 10295, 451, 3814]\n"
     ]
    }
   ],
   "source": [
    "demo_listings_count.pop(1)\n",
    "print(demo_listings_count)"
   ]
  },
  {
   "cell_type": "code",
   "execution_count": 268,
   "metadata": {
    "collapsed": false
   },
   "outputs": [
    {
     "data": {
      "text/plain": [
       "array([[ 1.       , -0.1149927],\n",
       "       [-0.1149927,  1.       ]])"
      ]
     },
     "execution_count": 268,
     "metadata": {},
     "output_type": "execute_result"
    }
   ],
   "source": [
    "numpy.corrcoef(list(demographic['mean_household_income']), demo_listings_count)"
   ]
  },
  {
   "cell_type": "code",
   "execution_count": null,
   "metadata": {
    "collapsed": false,
    "scrolled": true
   },
   "outputs": [],
   "source": [
    "index = ['LA', 'Portland', 'SD',\n",
    "         'SF-Oakland', 'SC', 'SEA']\n",
    "df = pd.DataFrame({'listings': list(demo_listings_count),\n",
    "                    'mean income': list(demographic['mean_household_income'])}, index=index)\n",
    "ax = df.plot.bar(rot=0)"
   ]
  },
  {
   "cell_type": "code",
   "execution_count": 295,
   "metadata": {
    "collapsed": false
   },
   "outputs": [
    {
     "name": "stdout",
     "output_type": "stream",
     "text": [
      "                            OLS Regression Results                            \n",
      "==============================================================================\n",
      "Dep. Variable:            mean income   R-squared:                       0.557\n",
      "Model:                            OLS   Adj. R-squared:                  0.468\n",
      "Method:                 Least Squares   F-statistic:                     6.274\n",
      "Date:                Sat, 27 Oct 2018   Prob (F-statistic):             0.0542\n",
      "Time:                        14:38:55   Log-Likelihood:                -68.774\n",
      "No. Observations:                   6   AIC:                             139.5\n",
      "Df Residuals:                       5   BIC:                             139.3\n",
      "Df Model:                           1                                         \n",
      "Covariance Type:            nonrobust                                         \n",
      "==============================================================================\n",
      "                 coef    std err          t      P>|t|      [95.0% Conf. Int.]\n",
      "------------------------------------------------------------------------------\n",
      "listings       2.6852      1.072      2.505      0.054        -0.071     5.441\n",
      "==============================================================================\n",
      "Omnibus:                          nan   Durbin-Watson:                   0.743\n",
      "Prob(Omnibus):                    nan   Jarque-Bera (JB):                1.936\n",
      "Skew:                          -1.372   Prob(JB):                        0.380\n",
      "Kurtosis:                       3.468   Cond. No.                         1.00\n",
      "==============================================================================\n",
      "\n",
      "Warnings:\n",
      "[1] Standard Errors assume that the covariance matrix of the errors is correctly specified.\n"
     ]
    },
    {
     "name": "stderr",
     "output_type": "stream",
     "text": [
      "/Users/stephen/anaconda/lib/python3.6/site-packages/statsmodels/stats/stattools.py:72: UserWarning: omni_normtest is not valid with less than 8 observations; 6 samples were given.\n",
      "  \"samples were given.\" % int(n))\n"
     ]
    }
   ],
   "source": [
    "model = sm.OLS(df['mean income'], df['listings']).fit()\n",
    "predictions = model.predict(df['listings']) \n",
    "\n",
    "print_model = model.summary()\n",
    "print(print_model)"
   ]
  },
  {
   "cell_type": "code",
   "execution_count": 285,
   "metadata": {
    "collapsed": false
   },
   "outputs": [
    {
     "data": {
      "text/plain": [
       "<seaborn.axisgrid.FacetGrid at 0x111ee3f60>"
      ]
     },
     "execution_count": 285,
     "metadata": {},
     "output_type": "execute_result"
    },
    {
     "data": {
      "image/png": "[encoded data removed]",
      "text/plain": [
       "<matplotlib.figure.Figure at 0x114c453c8>"
      ]
     },
     "metadata": {},
     "output_type": "display_data"
    }
   ],
   "source": [
    "sns.lmplot(x='listings',y='mean income',data=df,fit_reg=True) \n"
   ]
  },
  {
   "cell_type": "code",
   "execution_count": null,
   "metadata": {
    "collapsed": false
   },
   "outputs": [],
   "source": [
    "index = ['LA', 'Portland', 'SD',\n",
    "         'SF-Oakland', 'SC', 'SEA']\n",
    "df = pd.DataFrame({'listings': list(demo_listings_count),\n",
    "                    'median income': list(demographic['median_household_income'])}, index=index)\n",
    "ax = df.plot.scatter(x='listings',y='median income')"
   ]
  },
  {
   "cell_type": "code",
   "execution_count": 283,
   "metadata": {
    "collapsed": false,
    "scrolled": false
   },
   "outputs": [
    {
     "data": {
      "text/plain": [
       "<seaborn.axisgrid.FacetGrid at 0x1117830b8>"
      ]
     },
     "execution_count": 283,
     "metadata": {},
     "output_type": "execute_result"
    },
    {
     "data": {
      "image/png": "[encoded data removed]",
      "text/plain": [
       "<matplotlib.figure.Figure at 0x114bee048>"
      ]
     },
     "metadata": {},
     "output_type": "display_data"
    }
   ],
   "source": [
    "sns.lmplot(x='listings',y='median income',data=df,fit_reg=True) "
   ]
  },
  {
   "cell_type": "markdown",
   "metadata": {},
   "source": [
    "# Conclusion\n",
    "\n",
    "No correlation between mean & median income and listings of airbnbs"
   ]
  },
  {
   "cell_type": "code",
   "execution_count": null,
   "metadata": {
    "collapsed": true
   },
   "outputs": [],
   "source": []
  }
 ],
 "metadata": {
  "kernelspec": {
   "display_name": "Python 3",
   "language": "python",
   "name": "python3"
  },
  "language_info": {
   "codemirror_mode": {
    "name": "ipython",
    "version": 3
   },
   "file_extension": ".py",
   "mimetype": "text/x-python",
   "name": "python",
   "nbconvert_exporter": "python",
   "pygments_lexer": "ipython3",
   "version": "3.6.0"
  }
 },
 "nbformat": 4,
 "nbformat_minor": 2
}
